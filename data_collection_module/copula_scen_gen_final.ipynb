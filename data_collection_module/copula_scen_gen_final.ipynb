{
 "cells": [
  {
   "cell_type": "code",
   "execution_count": 1,
   "id": "283404a8",
   "metadata": {},
   "outputs": [],
   "source": [
    "import json \n",
    "import pandas as pd\n",
    "import matplotlib.pyplot as plt\n",
    "import plotly.graph_objects as go\n",
    "from plotly_resampler import FigureResampler, FigureWidgetResampler\n",
    "from funcs import fit_ar_garch, reconstruct_residuals, get_imbalance_price, fit_sample_copula\n",
    "from copulas.univariate import GaussianKDE, BetaUnivariate, GaussianUnivariate, GammaUnivariate, LogLaplace, StudentTUnivariate\n",
    "from fetch_da_prices import load_and_process_boiler_data, get_day_ahead_prices\n",
    "%load_ext autoreload\n",
    "%autoreload 2"
   ]
  },
  {
   "cell_type": "code",
   "execution_count": 2,
   "id": "58eab253",
   "metadata": {},
   "outputs": [],
   "source": [
    "start = pd.Timestamp('20250304', tz='UTC')\n",
    "end = pd.Timestamp('20250504', tz='UTC')"
   ]
  },
  {
   "cell_type": "code",
   "execution_count": 3,
   "id": "92758cb4",
   "metadata": {},
   "outputs": [],
   "source": [
    "capacity_up_hat = pd.read_parquet('/home/alqua/git/afrr-price-forecast-engine/data/results/afrr_price_forecast_UP.parquet')\n",
    "da_prices_hat = load_and_process_boiler_data(\"/home/alqua/data/boiler_data/daily_data\")\n",
    "\n",
    "da_prices = get_day_ahead_prices(start, end, price_area=\"DK_1\")\n",
    "da_prices_hat = da_prices_hat.loc[start:end]\n",
    "pic_prices = get_imbalance_price(start_date=start, end_date=end, price_area=\"DK1\")\n",
    "capacity_up_hat.index = capacity_up_hat.index.tz_localize('UTC')\n",
    "pic_prices.index = pic_prices.index.rename('time_utc')\n",
    "\n",
    "pic_prices.index= pd.to_datetime(pic_prices.index, utc=True)\n",
    "capacity_up_hat = capacity_up_hat.loc[start:end]"
   ]
  },
  {
   "cell_type": "code",
   "execution_count": 4,
   "id": "f6ba577c",
   "metadata": {},
   "outputs": [],
   "source": [
    "da_prices_df = da_prices_hat.join(da_prices, on=\"time_utc\")\n",
    "da_prices_df[\"da_price\"] = da_prices_df[\"da_price\"].ffill()\n",
    "da_prices_df[\"da_resid\"] = da_prices_df[\"da_preds\"] - da_prices_df[\"da_price\"]\n"
   ]
  },
  {
   "cell_type": "code",
   "execution_count": 5,
   "id": "8f9946bf",
   "metadata": {},
   "outputs": [],
   "source": [
    "da_prices_df[\"da_resid\"] = da_prices_df[\"da_resid\"].diff(1)"
   ]
  },
  {
   "cell_type": "code",
   "execution_count": 6,
   "id": "0439df23",
   "metadata": {},
   "outputs": [],
   "source": [
    "data = pic_prices.join(capacity_up_hat, on='time_utc' )\n",
    "data = pic_prices.join(capacity_up_hat, on='time_utc' )\n",
    "data['pic_up_resid'] =  data['aFRRVWAUpEUR'] - data['SpotPriceEUR']\n",
    "\n"
   ]
  },
  {
   "cell_type": "code",
   "execution_count": 7,
   "id": "b05eb944",
   "metadata": {},
   "outputs": [],
   "source": [
    "data = data.join(da_prices_df, on='time_utc', how='inner')"
   ]
  },
  {
   "cell_type": "code",
   "execution_count": 8,
   "id": "03a377a3",
   "metadata": {},
   "outputs": [],
   "source": [
    "data = data.ffill()"
   ]
  },
  {
   "cell_type": "code",
   "execution_count": 9,
   "id": "6adaa983",
   "metadata": {},
   "outputs": [
    {
     "name": "stderr",
     "output_type": "stream",
     "text": [
      "/home/alqua/anaconda3/envs/opt_env/lib/python3.12/site-packages/statsmodels/tsa/base/tsa_model.py:473: ValueWarning: No frequency information was provided, so inferred frequency 15min will be used.\n",
      "  self._init_dates(dates, freq)\n",
      "/home/alqua/anaconda3/envs/opt_env/lib/python3.12/site-packages/statsmodels/tsa/base/tsa_model.py:473: ValueWarning: No frequency information was provided, so inferred frequency 15min will be used.\n",
      "  self._init_dates(dates, freq)\n",
      "/home/alqua/anaconda3/envs/opt_env/lib/python3.12/site-packages/statsmodels/tsa/base/tsa_model.py:473: ValueWarning: No frequency information was provided, so inferred frequency 15min will be used.\n",
      "  self._init_dates(dates, freq)\n",
      "/home/alqua/anaconda3/envs/opt_env/lib/python3.12/site-packages/statsmodels/tsa/base/tsa_model.py:473: ValueWarning: No frequency information was provided, so inferred frequency 15min will be used.\n",
      "  self._init_dates(dates, freq)\n",
      "/home/alqua/anaconda3/envs/opt_env/lib/python3.12/site-packages/statsmodels/tsa/base/tsa_model.py:473: ValueWarning: No frequency information was provided, so inferred frequency 15min will be used.\n",
      "  self._init_dates(dates, freq)\n",
      "/home/alqua/anaconda3/envs/opt_env/lib/python3.12/site-packages/statsmodels/tsa/base/tsa_model.py:473: ValueWarning: No frequency information was provided, so inferred frequency 15min will be used.\n",
      "  self._init_dates(dates, freq)\n",
      "/home/alqua/anaconda3/envs/opt_env/lib/python3.12/site-packages/arch/univariate/base.py:309: DataScaleWarning: y is poorly scaled, which may affect convergence of the optimizer when\n",
      "estimating the model parameters. The scale of y is 4.734e+04. Parameter\n",
      "estimation work better when this value is between 1 and 1000. The recommended\n",
      "rescaling is 0.1 * y.\n",
      "\n",
      "This warning can be disabled by either rescaling y before initializing the\n",
      "model or by setting rescale=False.\n",
      "\n",
      "  warnings.warn(\n",
      "/home/alqua/anaconda3/envs/opt_env/lib/python3.12/site-packages/statsmodels/tsa/base/tsa_model.py:473: ValueWarning: No frequency information was provided, so inferred frequency 15min will be used.\n",
      "  self._init_dates(dates, freq)\n",
      "/home/alqua/anaconda3/envs/opt_env/lib/python3.12/site-packages/statsmodels/tsa/base/tsa_model.py:473: ValueWarning: No frequency information was provided, so inferred frequency 15min will be used.\n",
      "  self._init_dates(dates, freq)\n",
      "/home/alqua/anaconda3/envs/opt_env/lib/python3.12/site-packages/statsmodels/tsa/base/tsa_model.py:473: ValueWarning: No frequency information was provided, so inferred frequency 15min will be used.\n",
      "  self._init_dates(dates, freq)\n"
     ]
    }
   ],
   "source": [
    "ar_params_cap_up, garch_params_cap_up, std_res_cap_up, cond_vol_up = fit_ar_garch(data['cap_up_resid'], ar_order=1, garch_p=1, garch_q=1)\n",
    "ar_params_pic_up, garch_params_pic_up, std_res_cap_pic_up, cond_vol_pic_up = fit_ar_garch(data['pic_up_resid'], ar_order=1, garch_p=1, garch_q=1)\n",
    "ar_params_da, garch_params_da, std_res_da, cond_vol_da = fit_ar_garch(data['da_resid'], ar_order=1, garch_p=1, garch_q=1)\n",
    "\n",
    "data['cap_up_resid_std'] = std_res_cap_up\n",
    "data['pic_up_resid_std'] = std_res_cap_pic_up\n",
    "data['da_resid_std'] = std_res_cap_pic_up"
   ]
  },
  {
   "cell_type": "code",
   "execution_count": 10,
   "id": "51be601f",
   "metadata": {},
   "outputs": [],
   "source": [
    "from copulas.multivariate import GaussianMultivariate\n",
    "import numpy as np\n",
    "\n",
    "dist = GaussianMultivariate(distribution={\"cap_up_resid\": GaussianKDE, \n",
    "                                         \"pic_up_resid\": GaussianKDE, \n",
    "                                         \"da_resid\": GaussianKDE})\n",
    "\n",
    "dist.fit(data[[\"cap_up_resid\", \"pic_up_resid\", \"da_resid\"]])\n",
    "\n",
    "samples = dist.sample(10000)"
   ]
  },
  {
   "cell_type": "code",
   "execution_count": 11,
   "id": "95d2dab7",
   "metadata": {},
   "outputs": [],
   "source": [
    "def sample_quantile(samples, dist, target_quantile):\n",
    "    cdf_values = samples.apply(dist.cumulative_distribution, axis=1)\n",
    "    idx_closest = (cdf_values - target_quantile).abs().idxmin()\n",
    "    quantile_sample = samples.loc[idx_closest]\n",
    "    \n",
    "    return quantile_sample\n",
    "    "
   ]
  },
  {
   "cell_type": "code",
   "execution_count": 14,
   "id": "f050bad7",
   "metadata": {},
   "outputs": [],
   "source": [
    "joint_quantile_q90 = sample_quantile(samples, dist, 0.9)\n",
    "joint_quantile_q50 = sample_quantile(samples, dist, 0.5)\n",
    "joint_quantile_q10 = sample_quantile(samples, dist, 0.1)"
   ]
  },
  {
   "cell_type": "code",
   "execution_count": 15,
   "id": "699de8f3",
   "metadata": {},
   "outputs": [],
   "source": [
    "data['cap_up_resid_q90'] = joint_quantile_q90['cap_up_resid']\n",
    "data['cap_up_resid_q50'] = joint_quantile_q50['cap_up_resid']\n",
    "data['cap_up_resid_q10'] = joint_quantile_q10['cap_up_resid']"
   ]
  },
  {
   "cell_type": "code",
   "execution_count": 28,
   "id": "c7fc6f05",
   "metadata": {},
   "outputs": [
    {
     "data": {
      "text/plain": [
       "np.float64(43.35269176110975)"
      ]
     },
     "execution_count": 28,
     "metadata": {},
     "output_type": "execute_result"
    }
   ],
   "source": [
    "joint_quantile_q90['cap_up_resid']"
   ]
  },
  {
   "cell_type": "code",
   "execution_count": null,
   "id": "604f165f",
   "metadata": {},
   "outputs": [],
   "source": [
    "data['opt_afrr_up_cap_price_q90'] = data['opt_afrr_up_cap_price'] + data['cap_up_resid_q90']\n",
    "data['opt_afrr_up_cap_price_q50'] = data['opt_afrr_up_cap_price'] + data['cap_up_resid_q50']\n",
    "data['opt_afrr_up_cap_price_q10'] = data['opt_afrr_up_cap_price'] + data['cap_up_resid_q10']\n"
   ]
  },
  {
   "cell_type": "code",
   "execution_count": 55,
   "id": "ccd4248f",
   "metadata": {},
   "outputs": [
    {
     "data": {
      "text/plain": [
       "Index(['BalancingDemand', 'SpotPriceEUR', 'DominatingDirection', 'aFRRUpMW',\n",
       "       'aFRRVWAUpEUR', 'aFRRDownMW', 'aFRRVWADownEUR', 'lr_afrr_up_cap_price',\n",
       "       'xgb_afrr_up_cap_price', 'afrr_up_cap_price', 'opt_afrr_up_cap_price',\n",
       "       'cap_up_resid', 'pic_up_resid', 'heat_load_forecast', 'da_preds',\n",
       "       'da_price', 'da_resid', 'cap_up_resid_std', 'pic_up_resid_std',\n",
       "       'da_resid_std', 'cap_up_resid_q90', 'cap_up_resid_q50',\n",
       "       'cap_up_resid_q10', 'opt_afrr_up_cap_price_q90',\n",
       "       'opt_afrr_up_cap_price_q50', 'opt_afrr_up_cap_price_q10'],\n",
       "      dtype='object')"
      ]
     },
     "execution_count": 55,
     "metadata": {},
     "output_type": "execute_result"
    }
   ],
   "source": [
    "data.columns"
   ]
  },
  {
   "cell_type": "code",
   "execution_count": 66,
   "id": "b0296943",
   "metadata": {},
   "outputs": [],
   "source": [
    "da_q90_cond_cap_q90 = data[data['opt_afrr_up_cap_price'] >= data['opt_afrr_up_cap_price_q90'].quantile(0.9)]['da_resid'].quantile(0.9)\n",
    "da_q50_cond_cap_q90 = data[data['opt_afrr_up_cap_price'] >= data['opt_afrr_up_cap_price_q90'].quantile(0.9)]['da_resid'].quantile(0.5)\n",
    "da_q10_cond_cap_q90 = data[data['opt_afrr_up_cap_price'] >= data['opt_afrr_up_cap_price_q90'].quantile(0.9)]['da_resid'].quantile(0.1)\n",
    "\n",
    "da_q90_cond_cap_q50 = data[data['opt_afrr_up_cap_price'] >= data['opt_afrr_up_cap_price_q50'].quantile(0.5)]['da_resid'].quantile(0.9)\n",
    "da_q50_cond_cap_q50 = data[data['opt_afrr_up_cap_price'] >= data['opt_afrr_up_cap_price_q50'].quantile(0.5)]['da_resid'].quantile(0.5)\n",
    "da_q10_cond_cap_q50 = data[data['opt_afrr_up_cap_price'] >= data['opt_afrr_up_cap_price_q50'].quantile(0.5)]['da_resid'].quantile(0.1)\n",
    "\n",
    "da_q90_cond_cap_q10 = data[data['opt_afrr_up_cap_price'] >= data['opt_afrr_up_cap_price_q10'].quantile(0.1)]['da_resid'].quantile(0.9)\n",
    "da_q50_cond_cap_q10 = data[data['opt_afrr_up_cap_price'] >= data['opt_afrr_up_cap_price_q10'].quantile(0.1)]['da_resid'].quantile(0.5)\n",
    "da_q10_cond_cap_q10 = data[data['opt_afrr_up_cap_price'] >= data['opt_afrr_up_cap_price_q10'].quantile(0.1)]['da_resid'].quantile(0.1)\n",
    "\n",
    "data['da_q90_cond_cap_q10'] = data['da_preds'] + da_q90_cond_cap_q10\n",
    "data['da_q90_cond_cap_q50'] = data['da_preds'] + da_q90_cond_cap_q50\n",
    "data['da_q90_cond_cap_q90'] = data['da_preds'] + da_q90_cond_cap_q90\n",
    "data['da_q50_cond_cap_q10'] = data['da_preds'] + da_q50_cond_cap_q10\n",
    "data['da_q50_cond_cap_q50'] = data['da_preds'] + da_q50_cond_cap_q50\n",
    "data['da_q50_cond_cap_q90'] = data['da_preds'] + da_q50_cond_cap_q90\n",
    "data['da_q10_cond_cap_q10'] = data['da_preds'] + da_q10_cond_cap_q10\n",
    "data['da_q10_cond_cap_q50'] = data['da_preds'] + da_q10_cond_cap_q50\n",
    "data['da_q10_cond_cap_q90'] = data['da_preds'] + da_q10_cond_cap_q90\n"
   ]
  },
  {
   "cell_type": "code",
   "execution_count": 71,
   "id": "4da985cc",
   "metadata": {},
   "outputs": [],
   "source": [
    "# Brach 1 Picasso\n",
    "pic_q90_cond_da_q90_cond_cap_q90 = data[data['da_preds'] >= data['da_q90_cond_cap_q90'].quantile(0.9)]['pic_up_resid'].quantile(0.9)\n",
    "pic_q50_cond_da_q90_cond_cap_q90 = data[data['da_preds'] >= data['da_q90_cond_cap_q90'].quantile(0.9)]['pic_up_resid'].quantile(0.5)\n",
    "pic_q10_cond_da_q90_cond_cap_q90 = data[data['da_preds'] >= data['da_q90_cond_cap_q90'].quantile(0.9)]['pic_up_resid'].quantile(0.1)\n",
    "# Brach 2 Picasso\n",
    "pic_q90_cond_da_q50_cond_cap_q90 = data[data['da_preds'] >= data['da_q90_cond_cap_q50'].quantile(0.5)]['pic_up_resid'].quantile(0.9)\n",
    "pic_q50_cond_da_q50_cond_cap_q90 = data[data['da_preds'] >= data['da_q90_cond_cap_q50'].quantile(0.5)]['pic_up_resid'].quantile(0.5)\n",
    "pic_q10_cond_da_q50_cond_cap_q90 = data[data['da_preds'] >= data['da_q90_cond_cap_q50'].quantile(0.5)]['pic_up_resid'].quantile(0.1)\n",
    "# Brach 3 Picasso\n",
    "pic_q90_cond_da_q10_cond_cap_q90 = data[data['da_preds'] >= data['da_q90_cond_cap_q10'].quantile(0.1)]['pic_up_resid'].quantile(0.9)\n",
    "pic_q50_cond_da_q10_cond_cap_q90 = data[data['da_preds'] >= data['da_q90_cond_cap_q10'].quantile(0.1)]['pic_up_resid'].quantile(0.5)\n",
    "pic_q10_cond_da_q10_cond_cap_q90 = data[data['da_preds'] >= data['da_q90_cond_cap_q10'].quantile(0.1)]['pic_up_resid'].quantile(0.1)\n",
    "# Brach 4 Picasso\n",
    "pic_q90_cond_da_q90_cond_cap_q50 = data[data['da_preds'] >= data['da_q90_cond_cap_q90'].quantile(0.9)]['pic_up_resid'].quantile(0.9)\n",
    "pic_q50_cond_da_q90_cond_cap_q50 = data[data['da_preds'] >= data['da_q90_cond_cap_q90'].quantile(0.9)]['pic_up_resid'].quantile(0.5)\n",
    "pic_q10_cond_da_q90_cond_cap_q50 = data[data['da_preds'] >= data['da_q90_cond_cap_q90'].quantile(0.9)]['pic_up_resid'].quantile(0.1)\n",
    "# Brach 5 Picasso\n",
    "pic_q90_cond_da_q50_cond_cap_q50 = data[data['da_preds'] >= data['da_q90_cond_cap_q50'].quantile(0.5)]['pic_up_resid'].quantile(0.9)\n",
    "pic_q50_cond_da_q50_cond_cap_q50 = data[data['da_preds'] >= data['da_q90_cond_cap_q50'].quantile(0.5)]['pic_up_resid'].quantile(0.5)\n",
    "pic_q10_cond_da_q50_cond_cap_q50 = data[data['da_preds'] >= data['da_q90_cond_cap_q50'].quantile(0.5)]['pic_up_resid'].quantile(0.1)\n",
    "# Brach 6 Picasso\n",
    "pic_q90_cond_da_q10_cond_cap_q50 = data[data['da_preds'] >= data['da_q90_cond_cap_q10'].quantile(0.1)]['pic_up_resid'].quantile(0.9)\n",
    "pic_q50_cond_da_q10_cond_cap_q50 = data[data['da_preds'] >= data['da_q90_cond_cap_q10'].quantile(0.1)]['pic_up_resid'].quantile(0.5)\n",
    "pic_q10_cond_da_q10_cond_cap_q50 = data[data['da_preds'] >= data['da_q90_cond_cap_q10'].quantile(0.1)]['pic_up_resid'].quantile(0.1)\n",
    "# Brach 7 Picasso\n",
    "pic_q90_cond_da_q90_cond_cap_q10 = data[data['da_preds'] >= data['da_q90_cond_cap_q90'].quantile(0.9)]['pic_up_resid'].quantile(0.9)\n",
    "pic_q50_cond_da_q90_cond_cap_q10 = data[data['da_preds'] >= data['da_q90_cond_cap_q90'].quantile(0.9)]['pic_up_resid'].quantile(0.5)\n",
    "pic_q10_cond_da_q90_cond_cap_q10 = data[data['da_preds'] >= data['da_q90_cond_cap_q90'].quantile(0.9)]['pic_up_resid'].quantile(0.1)\n",
    "# Brach 8 Picasso\n",
    "pic_q90_cond_da_q50_cond_cap_q10 = data[data['da_preds'] >= data['da_q90_cond_cap_q50'].quantile(0.5)]['pic_up_resid'].quantile(0.9)\n",
    "pic_q50_cond_da_q50_cond_cap_q10 = data[data['da_preds'] >= data['da_q90_cond_cap_q50'].quantile(0.5)]['pic_up_resid'].quantile(0.5)\n",
    "pic_q10_cond_da_q50_cond_cap_q10 = data[data['da_preds'] >= data['da_q90_cond_cap_q50'].quantile(0.5)]['pic_up_resid'].quantile(0.1)\n",
    "# Brach 9 Picasso\n",
    "pic_q90_cond_da_q10_cond_cap_q10 = data[data['da_preds'] >= data['da_q90_cond_cap_q10'].quantile(0.1)]['pic_up_resid'].quantile(0.9)\n",
    "pic_q50_cond_da_q10_cond_cap_q10 = data[data['da_preds'] >= data['da_q90_cond_cap_q10'].quantile(0.1)]['pic_up_resid'].quantile(0.5)\n",
    "pic_q10_cond_da_q10_cond_cap_q10 = data[data['da_preds'] >= data['da_q90_cond_cap_q10'].quantile(0.1)]['pic_up_resid'].quantile(0.1)\n"
   ]
  },
  {
   "cell_type": "code",
   "execution_count": 72,
   "metadata": {},
   "outputs": [],
   "source": [
    "# Assuming the quantiles are already calculated as per your branches\n",
    "\n",
    "# Create new columns with specific names based on the quantile combinations\n",
    "data['pic_q90_cond_da_q90_cond_cap_q90'] = data['da_preds'] + pic_q90_cond_da_q90_cond_cap_q90\n",
    "data['pic_q50_cond_da_q90_cond_cap_q90'] = data['da_preds'] + pic_q50_cond_da_q90_cond_cap_q90\n",
    "data['pic_q10_cond_da_q90_cond_cap_q90'] = data['da_preds'] + pic_q10_cond_da_q90_cond_cap_q90\n",
    "\n",
    "data['pic_q90_cond_da_q50_cond_cap_q90'] = data['da_preds'] + pic_q90_cond_da_q50_cond_cap_q90\n",
    "data['pic_q50_cond_da_q50_cond_cap_q90'] = data['da_preds'] + pic_q50_cond_da_q50_cond_cap_q90\n",
    "data['pic_q10_cond_da_q50_cond_cap_q90'] = data['da_preds'] + pic_q10_cond_da_q50_cond_cap_q90\n",
    "\n",
    "data['pic_q90_cond_da_q10_cond_cap_q90'] = data['da_preds'] + pic_q90_cond_da_q10_cond_cap_q90\n",
    "data['pic_q50_cond_da_q10_cond_cap_q90'] = data['da_preds'] + pic_q50_cond_da_q10_cond_cap_q90\n",
    "data['pic_q10_cond_da_q10_cond_cap_q90'] = data['da_preds'] + pic_q10_cond_da_q10_cond_cap_q90\n",
    "\n",
    "data['pic_q90_cond_da_q90_cond_cap_q50'] = data['da_preds'] + pic_q90_cond_da_q90_cond_cap_q50\n",
    "data['pic_q50_cond_da_q90_cond_cap_q50'] = data['da_preds'] + pic_q50_cond_da_q90_cond_cap_q50\n",
    "data['pic_q10_cond_da_q90_cond_cap_q50'] = data['da_preds'] + pic_q10_cond_da_q90_cond_cap_q50\n",
    "\n",
    "data['pic_q90_cond_da_q50_cond_cap_q50'] = data['da_preds'] + pic_q90_cond_da_q50_cond_cap_q50\n",
    "data['pic_q50_cond_da_q50_cond_cap_q50'] = data['da_preds'] + pic_q50_cond_da_q50_cond_cap_q50\n",
    "data['pic_q10_cond_da_q50_cond_cap_q50'] = data['da_preds'] + pic_q10_cond_da_q50_cond_cap_q50\n",
    "\n",
    "data['pic_q90_cond_da_q10_cond_cap_q50'] = data['da_preds'] + pic_q90_cond_da_q10_cond_cap_q50\n",
    "data['pic_q50_cond_da_q10_cond_cap_q50'] = data['da_preds'] + pic_q50_cond_da_q10_cond_cap_q50\n",
    "data['pic_q10_cond_da_q10_cond_cap_q50'] = data['da_preds'] + pic_q10_cond_da_q10_cond_cap_q50\n",
    "\n",
    "data['pic_q90_cond_da_q90_cond_cap_q10'] = data['da_preds'] + pic_q90_cond_da_q90_cond_cap_q10\n",
    "data['pic_q50_cond_da_q90_cond_cap_q10'] = data['da_preds'] + pic_q50_cond_da_q90_cond_cap_q10\n",
    "data['pic_q10_cond_da_q90_cond_cap_q10'] = data['da_preds'] + pic_q10_cond_da_q90_cond_cap_q10\n",
    "\n",
    "data['pic_q90_cond_da_q50_cond_cap_q10'] = data['da_preds'] + pic_q90_cond_da_q50_cond_cap_q10\n",
    "data['pic_q50_cond_da_q50_cond_cap_q10'] = data['da_preds'] + pic_q50_cond_da_q50_cond_cap_q10\n",
    "data['pic_q10_cond_da_q50_cond_cap_q10'] = data['da_preds'] + pic_q10_cond_da_q50_cond_cap_q10\n",
    "\n",
    "data['pic_q90_cond_da_q10_cond_cap_q10'] = data['da_preds'] + pic_q90_cond_da_q10_cond_cap_q10\n",
    "data['pic_q50_cond_da_q10_cond_cap_q10'] = data['da_preds'] + pic_q50_cond_da_q10_cond_cap_q10\n",
    "data['pic_q10_cond_da_q10_cond_cap_q10'] = data['da_preds'] + pic_q10_cond_da_q10_cond_cap_q10"
   ]
  },
  {
   "cell_type": "code",
   "execution_count": null,
   "id": "14d8ce17",
   "metadata": {},
   "outputs": [],
   "source": [
    "\n"
   ]
  },
  {
   "cell_type": "code",
   "execution_count": null,
   "metadata": {},
   "outputs": [],
   "source": [
    "\"\"\"from scipy.stats import gaussian_kde\n",
    "\n",
    "def calculate_probabilities(group, forecast_col, historical_col, col_name):\n",
    "    kde = gaussian_kde(group[historical_col])\n",
    "    x = np.linspace(group[historical_col].min(), group[historical_col].max(), 1000)\n",
    "    density = kde(x)\n",
    "\n",
    "    scenario_values = {\n",
    "        f'{col_name}_q90': group[f'{forecast_col}_q90'].mean(),\n",
    "        f'{col_name}_q50': group[f'{forecast_col}_q50'].mean(),\n",
    "        f'{col_name}_q10': group[f'{forecast_col}_q10'].mean()\n",
    "    }\n",
    "\n",
    "    probabilities = {}\n",
    "    for scenario, value in scenario_values.items():\n",
    "        cdf_value = np.trapezoid(density[x <= value], x[x <= value])  # Area under the curve\n",
    "        probabilities[scenario] = cdf_value\n",
    "\n",
    "    total_probability = sum(probabilities.values())\n",
    "    normalized_probabilities = {k: v / total_probability for k, v in probabilities.items()}\n",
    "\n",
    "    return normalized_probabilities\"\"\""
   ]
  },
  {
   "cell_type": "code",
   "execution_count": null,
   "id": "b55cde4c",
   "metadata": {},
   "outputs": [],
   "source": [
    "'''\n",
    "forecast_column = 'da_preds'  \n",
    "historical_column = 'da_price'  \n",
    "\n",
    "daily_probabilities_da = data.groupby(data.index.date).apply(calculate_probabilities, \n",
    "                                                         forecast_col=forecast_column, \n",
    "                                                         historical_col=historical_column, \n",
    "                                                         col_name='da_price_probs')\n",
    "\n",
    "daily_probabilities_da_df = pd.DataFrame(list(daily_probabilities_da)).set_index(pd.to_datetime(daily_probabilities_da.index))\n",
    "daily_probabilities_da_df.index = daily_probabilities_da_df.index.normalize()\n",
    "#daily_probabilities_da_df'''"
   ]
  },
  {
   "cell_type": "code",
   "execution_count": null,
   "id": "889759f8",
   "metadata": {},
   "outputs": [
    {
     "data": {
      "text/html": [
       "<div>\n",
       "<style scoped>\n",
       "    .dataframe tbody tr th:only-of-type {\n",
       "        vertical-align: middle;\n",
       "    }\n",
       "\n",
       "    .dataframe tbody tr th {\n",
       "        vertical-align: top;\n",
       "    }\n",
       "\n",
       "    .dataframe thead th {\n",
       "        text-align: right;\n",
       "    }\n",
       "</style>\n",
       "<table border=\"1\" class=\"dataframe\">\n",
       "  <thead>\n",
       "    <tr style=\"text-align: right;\">\n",
       "      <th></th>\n",
       "      <th>afrr_up_prices_probs_q90</th>\n",
       "      <th>afrr_up_prices_probs_q50</th>\n",
       "      <th>afrr_up_prices_probs_q10</th>\n",
       "    </tr>\n",
       "  </thead>\n",
       "  <tbody>\n",
       "    <tr>\n",
       "      <th>2025-03-04</th>\n",
       "      <td>0.333333</td>\n",
       "      <td>0.333333</td>\n",
       "      <td>0.333333</td>\n",
       "    </tr>\n",
       "    <tr>\n",
       "      <th>2025-03-05</th>\n",
       "      <td>0.336396</td>\n",
       "      <td>0.336396</td>\n",
       "      <td>0.327209</td>\n",
       "    </tr>\n",
       "    <tr>\n",
       "      <th>2025-03-06</th>\n",
       "      <td>0.428487</td>\n",
       "      <td>0.342959</td>\n",
       "      <td>0.228554</td>\n",
       "    </tr>\n",
       "    <tr>\n",
       "      <th>2025-03-07</th>\n",
       "      <td>0.594322</td>\n",
       "      <td>0.281786</td>\n",
       "      <td>0.123892</td>\n",
       "    </tr>\n",
       "    <tr>\n",
       "      <th>2025-03-08</th>\n",
       "      <td>0.511427</td>\n",
       "      <td>0.322069</td>\n",
       "      <td>0.166504</td>\n",
       "    </tr>\n",
       "    <tr>\n",
       "      <th>...</th>\n",
       "      <td>...</td>\n",
       "      <td>...</td>\n",
       "      <td>...</td>\n",
       "    </tr>\n",
       "    <tr>\n",
       "      <th>2025-04-29</th>\n",
       "      <td>0.588676</td>\n",
       "      <td>0.275092</td>\n",
       "      <td>0.136231</td>\n",
       "    </tr>\n",
       "    <tr>\n",
       "      <th>2025-04-30</th>\n",
       "      <td>0.482744</td>\n",
       "      <td>0.329289</td>\n",
       "      <td>0.187966</td>\n",
       "    </tr>\n",
       "    <tr>\n",
       "      <th>2025-05-01</th>\n",
       "      <td>0.439078</td>\n",
       "      <td>0.363415</td>\n",
       "      <td>0.197507</td>\n",
       "    </tr>\n",
       "    <tr>\n",
       "      <th>2025-05-02</th>\n",
       "      <td>0.464736</td>\n",
       "      <td>0.341914</td>\n",
       "      <td>0.193350</td>\n",
       "    </tr>\n",
       "    <tr>\n",
       "      <th>2025-05-03</th>\n",
       "      <td>0.528142</td>\n",
       "      <td>0.337464</td>\n",
       "      <td>0.134394</td>\n",
       "    </tr>\n",
       "  </tbody>\n",
       "</table>\n",
       "<p>61 rows × 3 columns</p>\n",
       "</div>"
      ],
      "text/plain": [
       "            afrr_up_prices_probs_q90  afrr_up_prices_probs_q50  \\\n",
       "2025-03-04                  0.333333                  0.333333   \n",
       "2025-03-05                  0.336396                  0.336396   \n",
       "2025-03-06                  0.428487                  0.342959   \n",
       "2025-03-07                  0.594322                  0.281786   \n",
       "2025-03-08                  0.511427                  0.322069   \n",
       "...                              ...                       ...   \n",
       "2025-04-29                  0.588676                  0.275092   \n",
       "2025-04-30                  0.482744                  0.329289   \n",
       "2025-05-01                  0.439078                  0.363415   \n",
       "2025-05-02                  0.464736                  0.341914   \n",
       "2025-05-03                  0.528142                  0.337464   \n",
       "\n",
       "            afrr_up_prices_probs_q10  \n",
       "2025-03-04                  0.333333  \n",
       "2025-03-05                  0.327209  \n",
       "2025-03-06                  0.228554  \n",
       "2025-03-07                  0.123892  \n",
       "2025-03-08                  0.166504  \n",
       "...                              ...  \n",
       "2025-04-29                  0.136231  \n",
       "2025-04-30                  0.187966  \n",
       "2025-05-01                  0.197507  \n",
       "2025-05-02                  0.193350  \n",
       "2025-05-03                  0.134394  \n",
       "\n",
       "[61 rows x 3 columns]"
      ]
     },
     "execution_count": 19,
     "metadata": {},
     "output_type": "execute_result"
    }
   ],
   "source": [
    "'''\n",
    "daily_probabilities_afrr = data.groupby(data.index.date).apply(calculate_probabilities, \n",
    "                                                         forecast_col='opt_afrr_up_cap_price', \n",
    "                                                         historical_col='afrr_up_cap_price', \n",
    "                                                         col_name='afrr_up_prices_probs')\n",
    "\n",
    "daily_probabilities_afrr_df = pd.DataFrame(list(daily_probabilities_afrr)).set_index(pd.to_datetime(daily_probabilities_afrr.index))\n",
    "daily_probabilities_afrr_df.index = daily_probabilities_afrr_df.index.normalize()\n",
    "daily_probabilities_afrr_df'''"
   ]
  },
  {
   "cell_type": "code",
   "execution_count": null,
   "id": "770f0ee2",
   "metadata": {},
   "outputs": [],
   "source": [
    "'''daily_probabilities_pic = data.groupby(data.index.date).apply(calculate_probabilities, \n",
    "                                                         forecast_col='da_preds', \n",
    "                                                         historical_col='aFRRVWAUpEUR', \n",
    "                                                         col_name='picasso_price_probs')\n",
    "\n",
    "daily_probabilities_pic_df = pd.DataFrame(list(daily_probabilities_pic)).set_index(pd.to_datetime(daily_probabilities_pic.index))\n",
    "daily_probabilities_pic_df.index = daily_probabilities_pic_df.index.normalize()\n",
    "#daily_probabilities_pic_df'''"
   ]
  },
  {
   "cell_type": "code",
   "execution_count": null,
   "id": "4d9c9ba2",
   "metadata": {},
   "outputs": [],
   "source": []
  },
  {
   "cell_type": "code",
   "execution_count": null,
   "metadata": {},
   "outputs": [],
   "source": []
  },
  {
   "cell_type": "code",
   "execution_count": null,
   "metadata": {},
   "outputs": [],
   "source": []
  },
  {
   "cell_type": "code",
   "execution_count": null,
   "metadata": {},
   "outputs": [],
   "source": []
  },
  {
   "cell_type": "code",
   "execution_count": null,
   "id": "201252d5",
   "metadata": {},
   "outputs": [],
   "source": []
  },
  {
   "cell_type": "code",
   "execution_count": null,
   "metadata": {},
   "outputs": [],
   "source": []
  },
  {
   "cell_type": "code",
   "execution_count": null,
   "id": "e13692ba",
   "metadata": {},
   "outputs": [],
   "source": []
  },
  {
   "cell_type": "code",
   "execution_count": null,
   "id": "ce1ba0a4",
   "metadata": {},
   "outputs": [],
   "source": []
  },
  {
   "cell_type": "code",
   "execution_count": 26,
   "id": "21f9c7a6",
   "metadata": {},
   "outputs": [
    {
     "name": "stdout",
     "output_type": "stream",
     "text": [
      "{(0, 0, 0): {'scenario_id': 1, 'da_price_probs_q90': np.float64(0.49), 'afrr_up_prices_probs_q90': np.float64(0.53), 'picasso_price_probs_q90': np.float64(0.45), 'tot_prob': np.float64(0.12)}, (0, 0, 1): {'scenario_id': 2, 'da_price_probs_q90': np.float64(0.49), 'afrr_up_prices_probs_q90': np.float64(0.53), 'picasso_price_probs_q50': np.float64(0.29), 'tot_prob': np.float64(0.08)}, (0, 0, 2): {'scenario_id': 3, 'da_price_probs_q90': np.float64(0.49), 'afrr_up_prices_probs_q90': np.float64(0.53), 'picasso_price_probs_q10': np.float64(0.27), 'tot_prob': np.float64(0.07)}, (0, 1, 0): {'scenario_id': 4, 'da_price_probs_q90': np.float64(0.49), 'afrr_up_prices_probs_q50': np.float64(0.34), 'picasso_price_probs_q90': np.float64(0.45), 'tot_prob': np.float64(0.07)}, (0, 1, 1): {'scenario_id': 5, 'da_price_probs_q90': np.float64(0.49), 'afrr_up_prices_probs_q50': np.float64(0.34), 'picasso_price_probs_q50': np.float64(0.29), 'tot_prob': np.float64(0.05)}, (0, 1, 2): {'scenario_id': 6, 'da_price_probs_q90': np.float64(0.49), 'afrr_up_prices_probs_q50': np.float64(0.34), 'picasso_price_probs_q10': np.float64(0.27), 'tot_prob': np.float64(0.04)}, (0, 2, 0): {'scenario_id': 7, 'da_price_probs_q90': np.float64(0.49), 'afrr_up_prices_probs_q10': np.float64(0.13), 'picasso_price_probs_q90': np.float64(0.45), 'tot_prob': np.float64(0.03)}, (0, 2, 1): {'scenario_id': 8, 'da_price_probs_q90': np.float64(0.49), 'afrr_up_prices_probs_q10': np.float64(0.13), 'picasso_price_probs_q50': np.float64(0.29), 'tot_prob': np.float64(0.02)}, (0, 2, 2): {'scenario_id': 9, 'da_price_probs_q90': np.float64(0.49), 'afrr_up_prices_probs_q10': np.float64(0.13), 'picasso_price_probs_q10': np.float64(0.27), 'tot_prob': np.float64(0.02)}, (1, 0, 0): {'scenario_id': 10, 'da_price_probs_q50': np.float64(0.26), 'afrr_up_prices_probs_q90': np.float64(0.53), 'picasso_price_probs_q90': np.float64(0.45), 'tot_prob': np.float64(0.06)}, (1, 0, 1): {'scenario_id': 11, 'da_price_probs_q50': np.float64(0.26), 'afrr_up_prices_probs_q90': np.float64(0.53), 'picasso_price_probs_q50': np.float64(0.29), 'tot_prob': np.float64(0.04)}, (1, 0, 2): {'scenario_id': 12, 'da_price_probs_q50': np.float64(0.26), 'afrr_up_prices_probs_q90': np.float64(0.53), 'picasso_price_probs_q10': np.float64(0.27), 'tot_prob': np.float64(0.04)}, (1, 1, 0): {'scenario_id': 13, 'da_price_probs_q50': np.float64(0.26), 'afrr_up_prices_probs_q50': np.float64(0.34), 'picasso_price_probs_q90': np.float64(0.45), 'tot_prob': np.float64(0.04)}, (1, 1, 1): {'scenario_id': 14, 'da_price_probs_q50': np.float64(0.26), 'afrr_up_prices_probs_q50': np.float64(0.34), 'picasso_price_probs_q50': np.float64(0.29), 'tot_prob': np.float64(0.03)}, (1, 1, 2): {'scenario_id': 15, 'da_price_probs_q50': np.float64(0.26), 'afrr_up_prices_probs_q50': np.float64(0.34), 'picasso_price_probs_q10': np.float64(0.27), 'tot_prob': np.float64(0.02)}, (1, 2, 0): {'scenario_id': 16, 'da_price_probs_q50': np.float64(0.26), 'afrr_up_prices_probs_q10': np.float64(0.13), 'picasso_price_probs_q90': np.float64(0.45), 'tot_prob': np.float64(0.02)}, (1, 2, 1): {'scenario_id': 17, 'da_price_probs_q50': np.float64(0.26), 'afrr_up_prices_probs_q10': np.float64(0.13), 'picasso_price_probs_q50': np.float64(0.29), 'tot_prob': np.float64(0.01)}, (1, 2, 2): {'scenario_id': 18, 'da_price_probs_q50': np.float64(0.26), 'afrr_up_prices_probs_q10': np.float64(0.13), 'picasso_price_probs_q10': np.float64(0.27), 'tot_prob': np.float64(0.01)}, (2, 0, 0): {'scenario_id': 19, 'da_price_probs_q10': np.float64(0.25), 'afrr_up_prices_probs_q90': np.float64(0.53), 'picasso_price_probs_q90': np.float64(0.45), 'tot_prob': np.float64(0.06)}, (2, 0, 1): {'scenario_id': 20, 'da_price_probs_q10': np.float64(0.25), 'afrr_up_prices_probs_q90': np.float64(0.53), 'picasso_price_probs_q50': np.float64(0.29), 'tot_prob': np.float64(0.04)}, (2, 0, 2): {'scenario_id': 21, 'da_price_probs_q10': np.float64(0.25), 'afrr_up_prices_probs_q90': np.float64(0.53), 'picasso_price_probs_q10': np.float64(0.27), 'tot_prob': np.float64(0.04)}, (2, 1, 0): {'scenario_id': 22, 'da_price_probs_q10': np.float64(0.25), 'afrr_up_prices_probs_q50': np.float64(0.34), 'picasso_price_probs_q90': np.float64(0.45), 'tot_prob': np.float64(0.04)}, (2, 1, 1): {'scenario_id': 23, 'da_price_probs_q10': np.float64(0.25), 'afrr_up_prices_probs_q50': np.float64(0.34), 'picasso_price_probs_q50': np.float64(0.29), 'tot_prob': np.float64(0.02)}, (2, 1, 2): {'scenario_id': 24, 'da_price_probs_q10': np.float64(0.25), 'afrr_up_prices_probs_q50': np.float64(0.34), 'picasso_price_probs_q10': np.float64(0.27), 'tot_prob': np.float64(0.02)}, (2, 2, 0): {'scenario_id': 25, 'da_price_probs_q10': np.float64(0.25), 'afrr_up_prices_probs_q10': np.float64(0.13), 'picasso_price_probs_q90': np.float64(0.45), 'tot_prob': np.float64(0.01)}, (2, 2, 1): {'scenario_id': 26, 'da_price_probs_q10': np.float64(0.25), 'afrr_up_prices_probs_q10': np.float64(0.13), 'picasso_price_probs_q50': np.float64(0.29), 'tot_prob': np.float64(0.01)}, (2, 2, 2): {'scenario_id': 27, 'da_price_probs_q10': np.float64(0.25), 'afrr_up_prices_probs_q10': np.float64(0.13), 'picasso_price_probs_q10': np.float64(0.27), 'tot_prob': np.float64(0.01)}}\n"
     ]
    }
   ],
   "source": [
    "import pandas as pd\n",
    "import numpy as np\n",
    "\n",
    "# Assuming daily_probabilities_da_df, daily_probabilities_afrr_df, and daily_probabilities_pic_df\n",
    "# have already been created and have quantile columns.\n",
    "\n",
    "# Define the quantile suffixes\n",
    "quantile_suffixes = ['_q90', '_q50', '_q10']\n",
    "\n",
    "# Initialize an empty dictionary to store the scenarios\n",
    "scenarios_dict = {}\n",
    "cnt = 0\n",
    "# Loop through the quantile combinations\n",
    "for q1 in range(len(quantile_suffixes)):\n",
    "    for q2 in range(len(quantile_suffixes)):\n",
    "        for q3 in range(len(quantile_suffixes)):\n",
    "            # Create a key for the dictionary based on the current combination of quantiles\n",
    "            key = (q1, q2, q3)\n",
    "            cnt += 1\n",
    "            # Construct the column names for the current scenario\n",
    "            da_price_prob_col = f'da_price_probs{quantile_suffixes[q1]}'\n",
    "            afrr_price_prob_col = f'afrr_up_prices_probs{quantile_suffixes[q2]}'\n",
    "            picasso_price_prob_col = f'picasso_price_probs{quantile_suffixes[q3]}'\n",
    "\n",
    "            # Loop through each row in the dataframes and store the last row's data\n",
    "            for index in range(len(daily_probabilities_da_df)):\n",
    "                # Get the probabilities for the current row\n",
    "                da_price_prob = daily_probabilities_da_df.iloc[index][da_price_prob_col].round(2)\n",
    "                afrr_price_prob = daily_probabilities_afrr_df.iloc[index][afrr_price_prob_col].round(2)\n",
    "                picasso_price_prob = daily_probabilities_pic_df.iloc[index][picasso_price_prob_col].round(2)\n",
    "\n",
    "                # Calculate total probability\n",
    "                tot_prob = (da_price_prob * afrr_price_prob * picasso_price_prob).round(2)\n",
    "\n",
    "                # Store the data in the dictionary with np.float64 and include quantile suffixes\n",
    "                scenarios_dict[key] = {\n",
    "                    'scenario_id': cnt,\n",
    "                    f'da_price_probs{quantile_suffixes[q1]}': np.float64(da_price_prob),\n",
    "                    f'afrr_up_prices_probs{quantile_suffixes[q2]}': np.float64(afrr_price_prob),\n",
    "                    f'picasso_price_probs{quantile_suffixes[q3]}': np.float64(picasso_price_prob),\n",
    "                    'tot_prob': np.float64(tot_prob)\n",
    "                }\n",
    "\n",
    "# Print the resulting dictionary\n",
    "print(scenarios_dict)"
   ]
  },
  {
   "cell_type": "code",
   "execution_count": null,
   "id": "202647a6",
   "metadata": {},
   "outputs": [],
   "source": [
    "COLS = ['BalancingDemand', 'DominatingDirection', 'heat_load_forecast',\n",
    "        \n",
    " 'aFRRUpMW', 'aFRRVWAUpEUR', 'aFRRDownMW', 'aFRRVWADownEUR',\n",
    "'opt_afrr_up_cap_price','cap_up_resid', 'opt_afrr_up_cap_price_q90', 'opt_afrr_up_cap_price_q50', 'opt_afrr_up_cap_price_q10',\n",
    "'da_price', 'da_preds', 'da_resid', 'da_preds_q90', 'da_preds_q50', 'da_preds_q10',\n",
    "'pic_up_resid', 'aFRRVWAUpEUR_90', 'aFRRVWAUpEUR_50',  'aFRRVWAUpEUR_10']"
   ]
  },
  {
   "cell_type": "code",
   "execution_count": 37,
   "id": "53613ab7",
   "metadata": {},
   "outputs": [
    {
     "data": {
      "text/plain": [
       "Index(['BalancingDemand', 'SpotPriceEUR', 'DominatingDirection',\n",
       "       'heat_load_forecast', 'aFRRUpMW', 'aFRRVWAUpEUR', 'aFRRDownMW',\n",
       "       'aFRRVWADownEUR', 'opt_afrr_up_cap_price', 'cap_up_resid',\n",
       "       'opt_afrr_up_cap_price_q90', 'opt_afrr_up_cap_price_q50',\n",
       "       'opt_afrr_up_cap_price_q10', 'da_price', 'da_preds', 'da_resid',\n",
       "       'da_preds_q90', 'da_preds_q50', 'da_preds_q10', 'pic_up_resid',\n",
       "       'aFRRVWAUpEUR_90', 'aFRRVWAUpEUR_50', 'aFRRVWAUpEUR_10'],\n",
       "      dtype='object')"
      ]
     },
     "execution_count": 37,
     "metadata": {},
     "output_type": "execute_result"
    }
   ],
   "source": [
    "data[COLS].columns"
   ]
  },
  {
   "cell_type": "code",
   "execution_count": 38,
   "id": "4f430c66",
   "metadata": {},
   "outputs": [],
   "source": [
    "\n",
    "\n",
    "rename_dict = {\n",
    "                'BalancingDemand': 'BalancingDemand', #balancing demand \n",
    "                'DominatingDirection': 'DominatingDirection', #direction of the balancing demand \n",
    "                'heat_load_forecast': 'HeatLoadForecast', #heat schedule forecast\n",
    "                \n",
    "                'aFRRVWAUpEUR': 'PiCUpEUR', #Picasso imbalance price weighted by the volume \n",
    "                'aFRRUpMW': 'aFRRUpMW', #Capacity Prices MW\n",
    "                'opt_afrr_up_cap_price': 'aFRRUpCapHat', #aFRRUpCap price forecast\n",
    "                'opt_afrr_up_cap_price_q90': 'aFRRUpCapHatQ90', #aFRRUpCap price forecast q90\n",
    "                'opt_afrr_up_cap_price_q50': 'aFRRUpCapHatQ50', #aFRRUpCap price forecast q50\n",
    "                'opt_afrr_up_cap_price_q10': 'aFRRUpCapHatQ10', #aFRRUpCap price forecast q10\n",
    "                'da_price': 'DayAhead', #day ahead real price, \n",
    "                'da_preds': 'DayAheadHat', #day ahead price forecast\n",
    "                'da_preds_q90': 'DayAheadHatQ90', #day ahead price forecast q90\n",
    "                'da_preds_q50': 'DayAheadHatQ50', #day ahead price forecast q50\n",
    "                'da_preds_q10': 'DayAheadHatQ10', #day ahead price forecast q10\n",
    "                'aFRRVWAUpEUR_90': 'PiCUpEURQ90', #Picasso price real residuals q90\n",
    "                'aFRRVWAUpEUR_50': 'PiCUpEURQ50', \n",
    "                'aFRRVWAUpEUR_10': 'PiCUpEURQ10', #Picasso price real residuals q10\n",
    "            }"
   ]
  },
  {
   "cell_type": "code",
   "execution_count": 41,
   "id": "ed15c67d",
   "metadata": {},
   "outputs": [],
   "source": [
    "data = data[COLS].rename(columns=rename_dict)\n",
    "data.to_parquet('../data/results/data_for_optimization.parquet')"
   ]
  },
  {
   "cell_type": "code",
   "execution_count": 43,
   "id": "0381ee71",
   "metadata": {},
   "outputs": [],
   "source": [
    "def convert_to_serializable(data):\n",
    "    new_data = {}\n",
    "    for key, value in data.items():\n",
    "        new_key = str(key)  # Convert tuple to string\n",
    "        new_value = {k: float(v) if isinstance(v, np.float64) else v for k, v in value.items()}\n",
    "        new_data[new_key] = new_value\n",
    "    return new_data\n",
    "\n",
    "# Convert the data\n",
    "serializable_data = convert_to_serializable(scenarios_dict)"
   ]
  },
  {
   "cell_type": "code",
   "execution_count": 51,
   "id": "db3a9d1f",
   "metadata": {},
   "outputs": [],
   "source": [
    "with open('../data/results/scenarios_dict.json', 'w', encoding='utf-8') as json_file:\n",
    "    json.dump(serializable_data, json_file, indent=4, ensure_ascii=False)"
   ]
  },
  {
   "cell_type": "code",
   "execution_count": null,
   "id": "d8e44965",
   "metadata": {},
   "outputs": [],
   "source": []
  }
 ],
 "metadata": {
  "kernelspec": {
   "display_name": "opt_env",
   "language": "python",
   "name": "python3"
  },
  "language_info": {
   "codemirror_mode": {
    "name": "ipython",
    "version": 3
   },
   "file_extension": ".py",
   "mimetype": "text/x-python",
   "name": "python",
   "nbconvert_exporter": "python",
   "pygments_lexer": "ipython3",
   "version": "3.12.9"
  }
 },
 "nbformat": 4,
 "nbformat_minor": 5
}
