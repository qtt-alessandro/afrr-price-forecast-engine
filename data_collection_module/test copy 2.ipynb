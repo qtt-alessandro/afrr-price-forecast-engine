{
 "cells": [
  {
   "cell_type": "code",
   "execution_count": 33,
   "id": "283404a8",
   "metadata": {},
   "outputs": [
    {
     "name": "stdout",
     "output_type": "stream",
     "text": [
      "The autoreload extension is already loaded. To reload it, use:\n",
      "  %reload_ext autoreload\n"
     ]
    }
   ],
   "source": [
    "import pandas as pd\n",
    "import matplotlib.pyplot as plt\n",
    "import plotly.graph_objects as go\n",
    "from plotly_resampler import FigureResampler, FigureWidgetResampler\n",
    "from funcs import fit_ar_garch, reconstruct_residuals, get_imbalance_price, fit_sample_copula\n",
    "from copulas.univariate import GaussianKDE, BetaUnivariate\n",
    "from fetch_da_prices import load_and_process_boiler_data, get_day_ahead_prices\n",
    "%load_ext autoreload\n",
    "%autoreload 2"
   ]
  },
  {
   "cell_type": "code",
   "execution_count": 2,
   "id": "58eab253",
   "metadata": {},
   "outputs": [],
   "source": [
    "start = pd.Timestamp('20250304', tz='UTC')\n",
    "end = pd.Timestamp('20250504', tz='UTC')"
   ]
  },
  {
   "cell_type": "code",
   "execution_count": 5,
   "id": "92758cb4",
   "metadata": {},
   "outputs": [],
   "source": [
    "capacity_up_hat = pd.read_parquet('/home/alqua/git/afrr-price-forecast-engine/data/results/afrr_price_forecast_UP.parquet')\n",
    "da_prices_hat = load_and_process_boiler_data(\"/home/alqua/data/boiler_data/daily_data\")\n",
    "\n",
    "da_prices = get_day_ahead_prices(start, end, price_area=\"DK_1\")\n",
    "da_prices_hat = da_prices_hat.loc[start:end]\n",
    "pic_prices = get_imbalance_price(start_date=start, end_date=end, price_area=\"DK1\")\n",
    "capacity_up_hat.index = capacity_up_hat.index.tz_localize('UTC')\n",
    "pic_prices.index = pic_prices.index.rename('time_utc')\n",
    "\n",
    "pic_prices.index= pd.to_datetime(pic_prices.index, utc=True)\n",
    "capacity_up_hat = capacity_up_hat.loc[start:end]"
   ]
  },
  {
   "cell_type": "code",
   "execution_count": null,
   "id": "f6ba577c",
   "metadata": {},
   "outputs": [],
   "source": [
    "da_prices_df = da_prices_hat.join(da_prices, on=\"time_utc\")\n",
    "da_prices_df[\"da_price\"] = da_prices_df[\"da_price\"].ffill()\n",
    "da_prices_df[\"da_resid\"] = da_prices_df[\"da_preds\"] - da_prices_df[\"da_price\"]\n"
   ]
  },
  {
   "cell_type": "code",
   "execution_count": 16,
   "id": "0439df23",
   "metadata": {},
   "outputs": [],
   "source": [
    "data = pic_prices.join(capacity_up_hat, on='time_utc' )\n",
    "data = pic_prices.join(capacity_up_hat, on='time_utc' )\n",
    "data['pic_up_resid'] = data['SpotPriceEUR'] - data['aFRRVWAUpEUR']\n",
    "data = data.dropna()\n"
   ]
  },
  {
   "cell_type": "code",
   "execution_count": 22,
   "id": "b05eb944",
   "metadata": {},
   "outputs": [],
   "source": [
    "data = data.join(da_prices_df, on='time_utc', how='inner')"
   ]
  },
  {
   "cell_type": "code",
   "execution_count": null,
   "id": "6adaa983",
   "metadata": {},
   "outputs": [
    {
     "name": "stderr",
     "output_type": "stream",
     "text": [
      "/home/alqua/anaconda3/envs/opt_env/lib/python3.12/site-packages/statsmodels/tsa/base/tsa_model.py:473: ValueWarning: A date index has been provided, but it has no associated frequency information and so will be ignored when e.g. forecasting.\n",
      "  self._init_dates(dates, freq)\n",
      "/home/alqua/anaconda3/envs/opt_env/lib/python3.12/site-packages/statsmodels/tsa/base/tsa_model.py:473: ValueWarning: A date index has been provided, but it has no associated frequency information and so will be ignored when e.g. forecasting.\n",
      "  self._init_dates(dates, freq)\n",
      "/home/alqua/anaconda3/envs/opt_env/lib/python3.12/site-packages/statsmodels/tsa/base/tsa_model.py:473: ValueWarning: A date index has been provided, but it has no associated frequency information and so will be ignored when e.g. forecasting.\n",
      "  self._init_dates(dates, freq)\n",
      "/home/alqua/anaconda3/envs/opt_env/lib/python3.12/site-packages/statsmodels/tsa/base/tsa_model.py:473: ValueWarning: A date index has been provided, but it has no associated frequency information and so will be ignored when e.g. forecasting.\n",
      "  self._init_dates(dates, freq)\n",
      "/home/alqua/anaconda3/envs/opt_env/lib/python3.12/site-packages/statsmodels/tsa/base/tsa_model.py:473: ValueWarning: A date index has been provided, but it has no associated frequency information and so will be ignored when e.g. forecasting.\n",
      "  self._init_dates(dates, freq)\n",
      "/home/alqua/anaconda3/envs/opt_env/lib/python3.12/site-packages/statsmodels/tsa/base/tsa_model.py:473: ValueWarning: A date index has been provided, but it has no associated frequency information and so will be ignored when e.g. forecasting.\n",
      "  self._init_dates(dates, freq)\n",
      "/home/alqua/anaconda3/envs/opt_env/lib/python3.12/site-packages/arch/univariate/base.py:309: DataScaleWarning: y is poorly scaled, which may affect convergence of the optimizer when\n",
      "estimating the model parameters. The scale of y is 8.309e+04. Parameter\n",
      "estimation work better when this value is between 1 and 1000. The recommended\n",
      "rescaling is 0.1 * y.\n",
      "\n",
      "This warning can be disabled by either rescaling y before initializing the\n",
      "model or by setting rescale=False.\n",
      "\n",
      "  warnings.warn(\n",
      "/home/alqua/anaconda3/envs/opt_env/lib/python3.12/site-packages/statsmodels/tsa/base/tsa_model.py:473: ValueWarning: A date index has been provided, but it has no associated frequency information and so will be ignored when e.g. forecasting.\n",
      "  self._init_dates(dates, freq)\n",
      "/home/alqua/anaconda3/envs/opt_env/lib/python3.12/site-packages/statsmodels/tsa/base/tsa_model.py:473: ValueWarning: A date index has been provided, but it has no associated frequency information and so will be ignored when e.g. forecasting.\n",
      "  self._init_dates(dates, freq)\n",
      "/home/alqua/anaconda3/envs/opt_env/lib/python3.12/site-packages/statsmodels/tsa/base/tsa_model.py:473: ValueWarning: A date index has been provided, but it has no associated frequency information and so will be ignored when e.g. forecasting.\n",
      "  self._init_dates(dates, freq)\n"
     ]
    }
   ],
   "source": [
    "ar_params_cap_up, garch_params_cap_up, std_res_cap_up, cond_vol_up = fit_ar_garch(data['cap_up_resid'], ar_order=1, garch_p=1, garch_q=1)\n",
    "ar_params_pic_up, garch_params_pic_up, std_res_cap_pic_up, cond_vol_pic_up = fit_ar_garch(data['pic_up_resid'], ar_order=1, garch_p=1, garch_q=1)\n",
    "ar_params_da, garch_params_da, std_res_da, cond_vol_da = fit_ar_garch(data['da_resid'], ar_order=1, garch_p=1, garch_q=1)\n",
    "\n",
    "data['cap_up_resid_std'] = std_res_cap_up\n",
    "data['pic_up_resid_std'] = std_res_cap_pic_up\n",
    "data['da_resid_std'] = std_res_cap_pic_up"
   ]
  },
  {
   "cell_type": "code",
   "execution_count": 34,
   "id": "58a328bd",
   "metadata": {},
   "outputs": [
    {
     "name": "stderr",
     "output_type": "stream",
     "text": [
      "/home/alqua/anaconda3/envs/opt_env/lib/python3.12/site-packages/scipy/stats/_continuous_distns.py:795: RuntimeWarning: invalid value encountered in sqrt\n",
      "  sk = 2*(b-a)*np.sqrt(a + b + 1) / (a + b + 2) / np.sqrt(a*b)\n",
      "/home/alqua/anaconda3/envs/opt_env/lib/python3.12/site-packages/scipy/stats/_continuous_distns.py:800: RuntimeWarning: The iteration is not making good progress, as measured by the \n",
      " improvement from the last ten iterations.\n",
      "  a, b = optimize.fsolve(func, (1.0, 1.0))\n"
     ]
    }
   ],
   "source": [
    "res_df = fit_sample_copula(residual_df=data,\n",
    "                           columns=[\"cap_up_resid_std\", \"pic_up_resid_std\", \"da_resid_std\"],\n",
    "                           distribution={\"cap_up_resid_std\": GaussianKDE, \n",
    "                                         \"pic_up_resid_std\": GaussianKDE, \n",
    "                                         \"da_resid_std\": BetaUnivariate},\n",
    "                           return_df=False)"
   ]
  },
  {
   "cell_type": "code",
   "execution_count": 25,
   "id": "f97a73c1",
   "metadata": {},
   "outputs": [
    {
     "name": "stderr",
     "output_type": "stream",
     "text": [
      "/home/alqua/git/afrr-price-forecast-engine/data_collection_module/funcs.py:41: FutureWarning: Series.__getitem__ treating keys as positions is deprecated. In a future version, integer keys will always be treated as labels (consistent with DataFrame behavior). To access a value by position, use `ser.iloc[pos]`\n",
      "  garch_residuals[0] = std_residuals[0] * np.sqrt(variances[0])\n",
      "/home/alqua/git/afrr-price-forecast-engine/data_collection_module/funcs.py:47: FutureWarning: Series.__getitem__ treating keys as positions is deprecated. In a future version, integer keys will always be treated as labels (consistent with DataFrame behavior). To access a value by position, use `ser.iloc[pos]`\n",
      "  garch_residuals[t] = std_residuals[t] * np.sqrt(variances[t])\n"
     ]
    }
   ],
   "source": [
    "res_df['cap_up_resid_std_cop_trans'] = reconstruct_residuals(\n",
    "                                            res_df['cap_up_resid_std_cop'], \n",
    "                                            ar_params_cap_up, \n",
    "                                            garch_params_cap_up, \n",
    "                                            initial_variance=0.1)\n",
    "\n",
    "res_df['pic_up_resid_std_cop_trans'] = reconstruct_residuals(\n",
    "                                            res_df['pic_up_resid_std_cop'], \n",
    "                                            ar_params_pic_up, \n",
    "                                            garch_params_pic_up, \n",
    "                                            initial_variance=0.1)\n",
    "\n",
    "res_df['da_resid_std_cop_trans'] = reconstruct_residuals(\n",
    "                                            res_df['da_resid_std_cop'], \n",
    "                                            ar_params_da, \n",
    "                                            garch_params_da, \n",
    "                                            initial_variance=0.1)"
   ]
  },
  {
   "cell_type": "code",
   "execution_count": 30,
   "id": "badefd2f",
   "metadata": {},
   "outputs": [
    {
     "data": {
      "text/plain": [
       "<matplotlib.legend.Legend at 0x7fb8949a61e0>"
      ]
     },
     "execution_count": 30,
     "metadata": {},
     "output_type": "execute_result"
    },
    {
     "data": {
      "image/png": "[encoded data removed]",
      "text/plain": [
       "<Figure size 640x480 with 1 Axes>"
      ]
     },
     "metadata": {},
     "output_type": "display_data"
    }
   ],
   "source": [
    "_ = plt.hist(res_df['da_resid_std_cop_trans'], bins=50, alpha=0.5, label='copula')\n",
    "_ = plt.hist(res_df['da_resid'], bins=50, alpha=0.5, label='original')\n",
    "plt.legend()"
   ]
  },
  {
   "cell_type": "code",
   "execution_count": 32,
   "id": "e5e32242",
   "metadata": {},
   "outputs": [
    {
     "data": {
      "text/plain": [
       "<matplotlib.legend.Legend at 0x7fb8946693d0>"
      ]
     },
     "execution_count": 32,
     "metadata": {},
     "output_type": "execute_result"
    },
    {
     "data": {
      "image/png": "[encoded data removed]",
      "text/plain": [
       "<Figure size 640x480 with 1 Axes>"
      ]
     },
     "metadata": {},
     "output_type": "display_data"
    }
   ],
   "source": [
    "_ = plt.hist(res_df['cap_up_resid_std_cop_trans'], bins=50, alpha=0.5, label='copula')\n",
    "_ = plt.hist(res_df['cap_up_resid'], bins=50, alpha=0.5, label='original')\n",
    "plt.legend()"
   ]
  },
  {
   "cell_type": "code",
   "execution_count": 41,
   "id": "f86c9d4b",
   "metadata": {},
   "outputs": [
    {
     "data": {
      "text/plain": [
       "<matplotlib.legend.Legend at 0x7fb8727341a0>"
      ]
     },
     "execution_count": 41,
     "metadata": {},
     "output_type": "execute_result"
    },
    {
     "data": {
      "image/png": "[encoded data removed]",
      "text/plain": [
       "<Figure size 640x480 with 1 Axes>"
      ]
     },
     "metadata": {},
     "output_type": "display_data"
    }
   ],
   "source": [
    "_ = plt.hist(res_df['pic_up_resid'], bins=100, alpha=0.5, label='copula')\n",
    "_ = plt.hist(res_df['pic_up_resid_std_cop_trans']-70, bins=100, alpha=0.5, label='original')\n",
    "plt.legend()"
   ]
  }
 ],
 "metadata": {
  "kernelspec": {
   "display_name": "opt_env",
   "language": "python",
   "name": "python3"
  },
  "language_info": {
   "codemirror_mode": {
    "name": "ipython",
    "version": 3
   },
   "file_extension": ".py",
   "mimetype": "text/x-python",
   "name": "python",
   "nbconvert_exporter": "python",
   "pygments_lexer": "ipython3",
   "version": "3.12.9"
  }
 },
 "nbformat": 4,
 "nbformat_minor": 5
}
