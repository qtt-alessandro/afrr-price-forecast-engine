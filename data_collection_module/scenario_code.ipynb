{
 "cells": [
  {
   "cell_type": "code",
   "execution_count": 1,
   "id": "283404a8",
   "metadata": {},
   "outputs": [],
   "source": [
    "import json \n",
    "import pandas as pd\n",
    "import matplotlib.pyplot as plt\n",
    "import plotly.graph_objects as go\n",
    "from plotly_resampler import FigureResampler, FigureWidgetResampler\n",
    "from funcs import fit_ar_garch, reconstruct_residuals, get_imbalance_price, fit_sample_copula\n",
    "from copulas.univariate import GaussianKDE, BetaUnivariate, GaussianUnivariate, GammaUnivariate, LogLaplace, StudentTUnivariate\n",
    "from fetch_da_prices import load_and_process_boiler_data, get_day_ahead_prices\n",
    "%load_ext autoreload\n",
    "%autoreload 2"
   ]
  },
  {
   "cell_type": "code",
   "execution_count": 2,
   "id": "58eab253",
   "metadata": {},
   "outputs": [],
   "source": [
    "start = pd.Timestamp('20250304', tz='UTC')\n",
    "end = pd.Timestamp('20250504', tz='UTC')"
   ]
  },
  {
   "cell_type": "code",
   "execution_count": 3,
   "id": "92758cb4",
   "metadata": {},
   "outputs": [],
   "source": [
    "capacity_up_hat = pd.read_parquet('/home/alqua/git/afrr-price-forecast-engine/data/results/afrr_price_forecast_UP.parquet')\n",
    "da_prices_hat = load_and_process_boiler_data(\"/home/alqua/data/boiler_data/daily_data\")\n",
    "\n",
    "da_prices = get_day_ahead_prices(start, end, price_area=\"DK_1\")\n",
    "da_prices_hat = da_prices_hat.loc[start:end]\n",
    "pic_prices = get_imbalance_price(start_date=start, end_date=end, price_area=\"DK1\")\n",
    "capacity_up_hat.index = capacity_up_hat.index.tz_localize('UTC')\n",
    "pic_prices.index = pic_prices.index.rename('time_utc')\n",
    "\n",
    "pic_prices.index= pd.to_datetime(pic_prices.index, utc=True)\n",
    "capacity_up_hat = capacity_up_hat.loc[start:end]"
   ]
  },
  {
   "cell_type": "code",
   "execution_count": 4,
   "id": "f6ba577c",
   "metadata": {},
   "outputs": [],
   "source": [
    "da_prices_df = da_prices_hat.join(da_prices, on=\"time_utc\")\n",
    "da_prices_df[\"da_price\"] = da_prices_df[\"da_price\"].ffill()\n",
    "da_prices_df[\"da_resid\"] = da_prices_df[\"da_preds\"] - da_prices_df[\"da_price\"]\n"
   ]
  },
  {
   "cell_type": "code",
   "execution_count": 5,
   "id": "8f9946bf",
   "metadata": {},
   "outputs": [],
   "source": [
    "da_prices_df[\"da_resid\"] = da_prices_df[\"da_resid\"].diff(1)"
   ]
  },
  {
   "cell_type": "code",
   "execution_count": null,
   "id": "0439df23",
   "metadata": {},
   "outputs": [],
   "source": [
    "data = pic_prices.join(capacity_up_hat, on='time_utc' )\n",
    "data = pic_prices.join(capacity_up_hat, on='time_utc' )\n",
    "data['pic_up_resid'] =  data['aFRRVWAUpEUR'] - data['SpotPriceEUR']"
   ]
  },
  {
   "cell_type": "code",
   "execution_count": 7,
   "id": "b05eb944",
   "metadata": {},
   "outputs": [],
   "source": [
    "data = data.join(da_prices_df, on='time_utc', how='inner')"
   ]
  },
  {
   "cell_type": "code",
   "execution_count": 8,
   "id": "03a377a3",
   "metadata": {},
   "outputs": [],
   "source": [
    "data = data.ffill()"
   ]
  },
  {
   "cell_type": "code",
   "execution_count": 18,
   "id": "6adaa983",
   "metadata": {},
   "outputs": [],
   "source": [
    "#ar_params_cap_up, garch_params_cap_up, std_res_cap_up, cond_vol_up = fit_ar_garch(data['cap_up_resid'], ar_order=1, garch_p=1, garch_q=1)\n",
    "#ar_params_pic_up, garch_params_pic_up, std_res_cap_pic_up, cond_vol_pic_up = fit_ar_garch(data['pic_up_resid'], ar_order=1, garch_p=1, garch_q=1)\n",
    "#ar_params_da, garch_params_da, std_res_da, cond_vol_da = fit_ar_garch(data['da_resid'], ar_order=1, garch_p=1, garch_q=1)\n",
    "\n",
    "#data['cap_up_resid_std'] = std_res_cap_up\n",
    "#data['pic_up_resid_std'] = std_res_cap_pic_up\n",
    "#data['da_resid_std'] = std_res_cap_pic_up"
   ]
  },
  {
   "cell_type": "code",
   "execution_count": 10,
   "id": "51be601f",
   "metadata": {},
   "outputs": [],
   "source": [
    "from copulas.multivariate import GaussianMultivariate\n",
    "import numpy as np\n",
    "\n",
    "dist = GaussianMultivariate(distribution={\"cap_up_resid\": GaussianKDE, \n",
    "                                         \"pic_up_resid\": GaussianKDE, \n",
    "                                         \"da_resid\": GaussianKDE})\n",
    "\n",
    "dist.fit(data[[\"cap_up_resid\", \"pic_up_resid\", \"da_resid\"]])\n",
    "\n",
    "samples = dist.sample(10000)"
   ]
  },
  {
   "cell_type": "code",
   "execution_count": 11,
   "id": "95d2dab7",
   "metadata": {},
   "outputs": [],
   "source": [
    "def sample_quantile(samples, dist, target_quantile):\n",
    "    cdf_values = samples.apply(dist.cumulative_distribution, axis=1)\n",
    "    idx_closest = (cdf_values - target_quantile).abs().idxmin()\n",
    "    quantile_sample = samples.loc[idx_closest]\n",
    "    \n",
    "    return quantile_sample\n",
    "    "
   ]
  },
  {
   "cell_type": "code",
   "execution_count": 12,
   "id": "f050bad7",
   "metadata": {},
   "outputs": [],
   "source": [
    "joint_quantile_q90 = sample_quantile(samples, dist, 0.9)\n",
    "joint_quantile_q50 = sample_quantile(samples, dist, 0.5)\n",
    "joint_quantile_q10 = sample_quantile(samples, dist, 0.1)"
   ]
  },
  {
   "cell_type": "code",
   "execution_count": 13,
   "id": "699de8f3",
   "metadata": {},
   "outputs": [],
   "source": [
    "data['cap_up_resid_q90'] = joint_quantile_q90['cap_up_resid']\n",
    "data['cap_up_resid_q50'] = joint_quantile_q50['cap_up_resid']\n",
    "data['cap_up_resid_q10'] = joint_quantile_q10['cap_up_resid']"
   ]
  },
  {
   "cell_type": "code",
   "execution_count": 14,
   "id": "604f165f",
   "metadata": {},
   "outputs": [],
   "source": [
    "data['opt_afrr_up_cap_price_q90'] = data['opt_afrr_up_cap_price'] + data['cap_up_resid_q90']\n",
    "data['opt_afrr_up_cap_price_q50'] = data['opt_afrr_up_cap_price'] + data['cap_up_resid_q50']\n",
    "data['opt_afrr_up_cap_price_q10'] = data['opt_afrr_up_cap_price'] + data['cap_up_resid_q10']\n"
   ]
  },
  {
   "cell_type": "code",
   "execution_count": null,
   "id": "b0296943",
   "metadata": {},
   "outputs": [],
   "source": [
    "da_q90_cond_cap_q90 = data[data['opt_afrr_up_cap_price'] >= data['opt_afrr_up_cap_price_q90'].quantile(0.9)]['da_resid'].quantile(0.9)\n",
    "da_q50_cond_cap_q90 = data[data['opt_afrr_up_cap_price'] >= data['opt_afrr_up_cap_price_q90'].quantile(0.9)]['da_resid'].quantile(0.5)\n",
    "da_q10_cond_cap_q90 = data[data['opt_afrr_up_cap_price'] >= data['opt_afrr_up_cap_price_q90'].quantile(0.9)]['da_resid'].quantile(0.1)\n",
    "\n",
    "da_q90_cond_cap_q50 = data[data['opt_afrr_up_cap_price'] >= data['opt_afrr_up_cap_price_q50'].quantile(0.5)]['da_resid'].quantile(0.9)\n",
    "da_q50_cond_cap_q50 = data[data['opt_afrr_up_cap_price'] >= data['opt_afrr_up_cap_price_q50'].quantile(0.5)]['da_resid'].quantile(0.5)\n",
    "da_q10_cond_cap_q50 = data[data['opt_afrr_up_cap_price'] >= data['opt_afrr_up_cap_price_q50'].quantile(0.5)]['da_resid'].quantile(0.1)\n",
    "\n",
    "da_q90_cond_cap_q10 = data[data['opt_afrr_up_cap_price'] >= data['opt_afrr_up_cap_price_q10'].quantile(0.1)]['da_resid'].quantile(0.9)\n",
    "da_q50_cond_cap_q10 = data[data['opt_afrr_up_cap_price'] >= data['opt_afrr_up_cap_price_q10'].quantile(0.1)]['da_resid'].quantile(0.5)\n",
    "da_q10_cond_cap_q10 = data[data['opt_afrr_up_cap_price'] >= data['opt_afrr_up_cap_price_q10'].quantile(0.1)]['da_resid'].quantile(0.1)\n",
    "\n",
    "\n",
    "data['da_q90_cond_cap_q10'] = data['da_preds'] + da_q90_cond_cap_q10\n",
    "data['da_q90_cond_cap_q50'] = data['da_preds'] + da_q90_cond_cap_q50\n",
    "data['da_q90_cond_cap_q90'] = data['da_preds'] + da_q90_cond_cap_q90\n",
    "data['da_q50_cond_cap_q10'] = data['da_preds'] + da_q50_cond_cap_q10\n",
    "data['da_q50_cond_cap_q50'] = data['da_preds'] + da_q50_cond_cap_q50\n",
    "data['da_q50_cond_cap_q90'] = data['da_preds'] + da_q50_cond_cap_q90\n",
    "data['da_q10_cond_cap_q10'] = data['da_preds'] + da_q10_cond_cap_q10\n",
    "data['da_q10_cond_cap_q50'] = data['da_preds'] + da_q10_cond_cap_q50\n",
    "data['da_q10_cond_cap_q90'] = data['da_preds'] + da_q10_cond_cap_q90\n"
   ]
  },
  {
   "cell_type": "code",
   "execution_count": 16,
   "id": "4da985cc",
   "metadata": {},
   "outputs": [],
   "source": [
    "# Brach 1 Picasso\n",
    "pic_q90_cond_da_q90_cond_cap_q90 = data[data['da_preds'] >= data['da_q90_cond_cap_q90'].quantile(0.9)]['pic_up_resid'].quantile(0.9)\n",
    "pic_q50_cond_da_q90_cond_cap_q90 = data[data['da_preds'] >= data['da_q90_cond_cap_q90'].quantile(0.9)]['pic_up_resid'].quantile(0.5)\n",
    "pic_q10_cond_da_q90_cond_cap_q90 = data[data['da_preds'] >= data['da_q90_cond_cap_q90'].quantile(0.9)]['pic_up_resid'].quantile(0.1)\n",
    "# Brach 2 Picasso\n",
    "pic_q90_cond_da_q50_cond_cap_q90 = data[data['da_preds'] >= data['da_q90_cond_cap_q50'].quantile(0.5)]['pic_up_resid'].quantile(0.9)\n",
    "pic_q50_cond_da_q50_cond_cap_q90 = data[data['da_preds'] >= data['da_q90_cond_cap_q50'].quantile(0.5)]['pic_up_resid'].quantile(0.5)\n",
    "pic_q10_cond_da_q50_cond_cap_q90 = data[data['da_preds'] >= data['da_q90_cond_cap_q50'].quantile(0.5)]['pic_up_resid'].quantile(0.1)\n",
    "# Brach 3 Picasso\n",
    "pic_q90_cond_da_q10_cond_cap_q90 = data[data['da_preds'] >= data['da_q90_cond_cap_q10'].quantile(0.1)]['pic_up_resid'].quantile(0.9)\n",
    "pic_q50_cond_da_q10_cond_cap_q90 = data[data['da_preds'] >= data['da_q90_cond_cap_q10'].quantile(0.1)]['pic_up_resid'].quantile(0.5)\n",
    "pic_q10_cond_da_q10_cond_cap_q90 = data[data['da_preds'] >= data['da_q90_cond_cap_q10'].quantile(0.1)]['pic_up_resid'].quantile(0.1)\n",
    "# Brach 4 Picasso\n",
    "pic_q90_cond_da_q90_cond_cap_q50 = data[data['da_preds'] >= data['da_q90_cond_cap_q90'].quantile(0.9)]['pic_up_resid'].quantile(0.9)\n",
    "pic_q50_cond_da_q90_cond_cap_q50 = data[data['da_preds'] >= data['da_q90_cond_cap_q90'].quantile(0.9)]['pic_up_resid'].quantile(0.5)\n",
    "pic_q10_cond_da_q90_cond_cap_q50 = data[data['da_preds'] >= data['da_q90_cond_cap_q90'].quantile(0.9)]['pic_up_resid'].quantile(0.1)\n",
    "# Brach 5 Picasso\n",
    "pic_q90_cond_da_q50_cond_cap_q50 = data[data['da_preds'] >= data['da_q90_cond_cap_q50'].quantile(0.5)]['pic_up_resid'].quantile(0.9)\n",
    "pic_q50_cond_da_q50_cond_cap_q50 = data[data['da_preds'] >= data['da_q90_cond_cap_q50'].quantile(0.5)]['pic_up_resid'].quantile(0.5)\n",
    "pic_q10_cond_da_q50_cond_cap_q50 = data[data['da_preds'] >= data['da_q90_cond_cap_q50'].quantile(0.5)]['pic_up_resid'].quantile(0.1)\n",
    "# Brach 6 Picasso\n",
    "pic_q90_cond_da_q10_cond_cap_q50 = data[data['da_preds'] >= data['da_q90_cond_cap_q10'].quantile(0.1)]['pic_up_resid'].quantile(0.9)\n",
    "pic_q50_cond_da_q10_cond_cap_q50 = data[data['da_preds'] >= data['da_q90_cond_cap_q10'].quantile(0.1)]['pic_up_resid'].quantile(0.5)\n",
    "pic_q10_cond_da_q10_cond_cap_q50 = data[data['da_preds'] >= data['da_q90_cond_cap_q10'].quantile(0.1)]['pic_up_resid'].quantile(0.1)\n",
    "# Brach 7 Picasso\n",
    "pic_q90_cond_da_q90_cond_cap_q10 = data[data['da_preds'] >= data['da_q90_cond_cap_q90'].quantile(0.9)]['pic_up_resid'].quantile(0.9)\n",
    "pic_q50_cond_da_q90_cond_cap_q10 = data[data['da_preds'] >= data['da_q90_cond_cap_q90'].quantile(0.9)]['pic_up_resid'].quantile(0.5)\n",
    "pic_q10_cond_da_q90_cond_cap_q10 = data[data['da_preds'] >= data['da_q90_cond_cap_q90'].quantile(0.9)]['pic_up_resid'].quantile(0.1)\n",
    "# Brach 8 Picasso\n",
    "pic_q90_cond_da_q50_cond_cap_q10 = data[data['da_preds'] >= data['da_q90_cond_cap_q50'].quantile(0.5)]['pic_up_resid'].quantile(0.9)\n",
    "pic_q50_cond_da_q50_cond_cap_q10 = data[data['da_preds'] >= data['da_q90_cond_cap_q50'].quantile(0.5)]['pic_up_resid'].quantile(0.5)\n",
    "pic_q10_cond_da_q50_cond_cap_q10 = data[data['da_preds'] >= data['da_q90_cond_cap_q50'].quantile(0.5)]['pic_up_resid'].quantile(0.1)\n",
    "# Brach 9 Picasso\n",
    "pic_q90_cond_da_q10_cond_cap_q10 = data[data['da_preds'] >= data['da_q90_cond_cap_q10'].quantile(0.1)]['pic_up_resid'].quantile(0.9)\n",
    "pic_q50_cond_da_q10_cond_cap_q10 = data[data['da_preds'] >= data['da_q90_cond_cap_q10'].quantile(0.1)]['pic_up_resid'].quantile(0.5)\n",
    "pic_q10_cond_da_q10_cond_cap_q10 = data[data['da_preds'] >= data['da_q90_cond_cap_q10'].quantile(0.1)]['pic_up_resid'].quantile(0.1)\n"
   ]
  },
  {
   "cell_type": "code",
   "execution_count": 17,
   "metadata": {},
   "outputs": [],
   "source": [
    "# Assuming the quantiles are already calculated as per your branches\n",
    "\n",
    "# Create new columns with specific names based on the quantile combinations\n",
    "data['pic_q90_cond_da_q90_cond_cap_q90'] = data['da_preds'] + pic_q90_cond_da_q90_cond_cap_q90\n",
    "data['pic_q50_cond_da_q90_cond_cap_q90'] = data['da_preds'] + pic_q50_cond_da_q90_cond_cap_q90\n",
    "data['pic_q10_cond_da_q90_cond_cap_q90'] = data['da_preds'] + pic_q10_cond_da_q90_cond_cap_q90\n",
    "\n",
    "data['pic_q90_cond_da_q50_cond_cap_q90'] = data['da_preds'] + pic_q90_cond_da_q50_cond_cap_q90\n",
    "data['pic_q50_cond_da_q50_cond_cap_q90'] = data['da_preds'] + pic_q50_cond_da_q50_cond_cap_q90\n",
    "data['pic_q10_cond_da_q50_cond_cap_q90'] = data['da_preds'] + pic_q10_cond_da_q50_cond_cap_q90\n",
    "\n",
    "data['pic_q90_cond_da_q10_cond_cap_q90'] = data['da_preds'] + pic_q90_cond_da_q10_cond_cap_q90\n",
    "data['pic_q50_cond_da_q10_cond_cap_q90'] = data['da_preds'] + pic_q50_cond_da_q10_cond_cap_q90\n",
    "data['pic_q10_cond_da_q10_cond_cap_q90'] = data['da_preds'] + pic_q10_cond_da_q10_cond_cap_q90\n",
    "\n",
    "data['pic_q90_cond_da_q90_cond_cap_q50'] = data['da_preds'] + pic_q90_cond_da_q90_cond_cap_q50\n",
    "data['pic_q50_cond_da_q90_cond_cap_q50'] = data['da_preds'] + pic_q50_cond_da_q90_cond_cap_q50\n",
    "data['pic_q10_cond_da_q90_cond_cap_q50'] = data['da_preds'] + pic_q10_cond_da_q90_cond_cap_q50\n",
    "\n",
    "data['pic_q90_cond_da_q50_cond_cap_q50'] = data['da_preds'] + pic_q90_cond_da_q50_cond_cap_q50\n",
    "data['pic_q50_cond_da_q50_cond_cap_q50'] = data['da_preds'] + pic_q50_cond_da_q50_cond_cap_q50\n",
    "data['pic_q10_cond_da_q50_cond_cap_q50'] = data['da_preds'] + pic_q10_cond_da_q50_cond_cap_q50\n",
    "\n",
    "data['pic_q90_cond_da_q10_cond_cap_q50'] = data['da_preds'] + pic_q90_cond_da_q10_cond_cap_q50\n",
    "data['pic_q50_cond_da_q10_cond_cap_q50'] = data['da_preds'] + pic_q50_cond_da_q10_cond_cap_q50\n",
    "data['pic_q10_cond_da_q10_cond_cap_q50'] = data['da_preds'] + pic_q10_cond_da_q10_cond_cap_q50\n",
    "\n",
    "data['pic_q90_cond_da_q90_cond_cap_q10'] = data['da_preds'] + pic_q90_cond_da_q90_cond_cap_q10\n",
    "data['pic_q50_cond_da_q90_cond_cap_q10'] = data['da_preds'] + pic_q50_cond_da_q90_cond_cap_q10\n",
    "data['pic_q10_cond_da_q90_cond_cap_q10'] = data['da_preds'] + pic_q10_cond_da_q90_cond_cap_q10\n",
    "\n",
    "data['pic_q90_cond_da_q50_cond_cap_q10'] = data['da_preds'] + pic_q90_cond_da_q50_cond_cap_q10\n",
    "data['pic_q50_cond_da_q50_cond_cap_q10'] = data['da_preds'] + pic_q50_cond_da_q50_cond_cap_q10\n",
    "data['pic_q10_cond_da_q50_cond_cap_q10'] = data['da_preds'] + pic_q10_cond_da_q50_cond_cap_q10\n",
    "\n",
    "data['pic_q90_cond_da_q10_cond_cap_q10'] = data['da_preds'] + pic_q90_cond_da_q10_cond_cap_q10\n",
    "data['pic_q50_cond_da_q10_cond_cap_q10'] = data['da_preds'] + pic_q50_cond_da_q10_cond_cap_q10\n",
    "data['pic_q10_cond_da_q10_cond_cap_q10'] = data['da_preds'] + pic_q10_cond_da_q10_cond_cap_q10"
   ]
  }
 ],
 "metadata": {
  "kernelspec": {
   "display_name": "opt_env",
   "language": "python",
   "name": "python3"
  },
  "language_info": {
   "codemirror_mode": {
    "name": "ipython",
    "version": 3
   },
   "file_extension": ".py",
   "mimetype": "text/x-python",
   "name": "python",
   "nbconvert_exporter": "python",
   "pygments_lexer": "ipython3",
   "version": "3.12.9"
  }
 },
 "nbformat": 4,
 "nbformat_minor": 5
}
