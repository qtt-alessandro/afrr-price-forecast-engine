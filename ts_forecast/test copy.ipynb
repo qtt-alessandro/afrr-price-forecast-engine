{
 "cells": [
  {
   "cell_type": "code",
   "execution_count": 2,
   "metadata": {},
   "outputs": [],
   "source": [
    "import pandas as pd\n",
    "from darts import TimeSeries\n",
    "from darts.models import LinearRegressionModel\n",
    "from darts.metrics import mape, rmse\n",
    "import matplotlib.pyplot as plt\n",
    "import pandas as pd\n",
    "import seaborn as sns\n",
    "import matplotlib.pyplot as plt"
   ]
  },
  {
   "cell_type": "code",
   "execution_count": 3,
   "metadata": {},
   "outputs": [],
   "source": [
    "data = pd.read_parquet(\"../data/afrr_price.parquet\")"
   ]
  },
  {
   "cell_type": "code",
   "execution_count": 4,
   "metadata": {},
   "outputs": [],
   "source": [
    "data[\"prod_unbalance\"] = data[[\"wind_offshore_dayahead\", \"wind_onshore_dayahead\", \"solar_dayahead\"]].sum(axis=1) - data[\"load_forecasts\"]"
   ]
  },
  {
   "cell_type": "code",
   "execution_count": 5,
   "metadata": {},
   "outputs": [],
   "source": [
    "data = data[['wind_offshore_dayahead', 'wind_onshore_dayahead',\n",
    "       'solar_dayahead','aFRR_DownCapPriceEUR', 'aFRR_UpCapPriceEUR', 'load_forecasts',\n",
    "       'da_price', 'prod_unbalance']]"
   ]
  },
  {
   "cell_type": "code",
   "execution_count": 6,
   "metadata": {},
   "outputs": [],
   "source": [
    "data = data.dropna()"
   ]
  },
  {
   "cell_type": "code",
   "execution_count": 7,
   "metadata": {},
   "outputs": [],
   "source": [
    "#data = data.rolling(10).mean()"
   ]
  },
  {
   "cell_type": "code",
   "execution_count": 8,
   "metadata": {},
   "outputs": [],
   "source": [
    "#data[\"aFRR_UpCapPriceEUR\"] = data[\"aFRR_UpCapPriceEUR\"].diff(24)"
   ]
  },
  {
   "cell_type": "code",
   "execution_count": 9,
   "metadata": {},
   "outputs": [],
   "source": [
    "#data = data.diff(1).dropna()"
   ]
  },
  {
   "cell_type": "code",
   "execution_count": 31,
   "metadata": {},
   "outputs": [
    {
     "name": "stderr",
     "output_type": "stream",
     "text": [
      "The provided DatetimeIndex was associated with a timezone, which is currently not supported by xarray. To avoid unexpected behaviour, the tz information was removed. Consider calling `ts.time_index.tz_localize(UTC)` when exporting the results.To plot the series with the right time steps, consider setting the matplotlib.pyplot `rcParams['timezone']` parameter to automatically convert the time axis back to the original timezone.\n",
      "The provided DatetimeIndex was associated with a timezone, which is currently not supported by xarray. To avoid unexpected behaviour, the tz information was removed. Consider calling `ts.time_index.tz_localize(UTC)` when exporting the results.To plot the series with the right time steps, consider setting the matplotlib.pyplot `rcParams['timezone']` parameter to automatically convert the time axis back to the original timezone.\n"
     ]
    },
    {
     "name": "stdout",
     "output_type": "stream",
     "text": [
      "Clean aligned series length: 1223\n"
     ]
    }
   ],
   "source": [
    "import pandas as pd\n",
    "import numpy as np\n",
    "from darts import TimeSeries\n",
    "from darts.models import LinearRegressionModel\n",
    "from darts.dataprocessing.transformers import Scaler\n",
    "from darts.utils.missing_values import extract_subseries\n",
    "import matplotlib.pyplot as plt\n",
    "\n",
    "# Define target and exogenous variables\n",
    "target_col = 'aFRR_UpCapPriceEUR'\n",
    "exog_cols = ['wind_offshore_dayahead', 'wind_onshore_dayahead', \n",
    "             'solar_dayahead']\n",
    "\n",
    "# Create TimeSeries objects\n",
    "target_series = TimeSeries.from_series(data[target_col], freq=\"1h\")\n",
    "covariates = TimeSeries.from_dataframe(data[exog_cols], freq=\"1h\")\n",
    "\n",
    "# Extract subseries without missing values\n",
    "target_subseries = extract_subseries(\n",
    "    series=target_series,\n",
    "    min_gap_size=1\n",
    ")\n",
    "\n",
    "covariates_subseries = extract_subseries(\n",
    "    series=covariates,\n",
    "    min_gap_size=1,\n",
    "    mode='all'\n",
    ")\n",
    "\n",
    "# Get longest clean subseries\n",
    "target_clean = max(target_subseries, key=len)\n",
    "covariates_clean = max(covariates_subseries, key=len)\n",
    "\n",
    "# Find overlapping time period\n",
    "start_time = max(target_clean.start_time(), covariates_clean.start_time())\n",
    "end_time = min(target_clean.end_time(), covariates_clean.end_time())\n",
    "\n",
    "# Slice to common time range\n",
    "target_final = target_clean.slice(start_time, end_time)\n",
    "covariates_final = covariates_clean.slice(start_time, end_time)\n",
    "\n",
    "print(f\"Clean aligned series length: {len(target_final)}\")\n",
    "\n",
    "train_cutoff = int(len(target_final) * 0.5)\n",
    "train_target = target_final[:train_cutoff]\n",
    "test_target = target_final[train_cutoff:]\n",
    "\n",
    "max_past_lag = 24  # Assuming your longest past lag is 24\n",
    "\n",
    "# Train covariates should end at train_cutoff\n",
    "train_covariates = covariates_final[:train_cutoff]\n",
    "\n",
    "# Test covariates should include some history before test period starts\n",
    "# This creates an overlap between train and test covariates\n",
    "test_covariates_start = train_cutoff - max_past_lag\n",
    "test_covariates = covariates_final[test_covariates_start:]\n",
    "\n",
    "# Scale the data\n",
    "scaler_target = Scaler()\n",
    "scaler_covariates = Scaler()\n",
    "train_target_scaled = scaler_target.fit_transform(train_target)\n",
    "train_covariates_scaled = scaler_covariates.fit_transform(train_covariates)\n",
    "test_covariates_scaled = scaler_covariates.transform(test_covariates)\n",
    "full_covariates_scaled = scaler_covariates.transform(covariates_final)"
   ]
  },
  {
   "cell_type": "code",
   "execution_count": 40,
   "metadata": {},
   "outputs": [
    {
     "name": "stderr",
     "output_type": "stream",
     "text": [
      "`enable_optimization=True` is ignored because `retrain` is not `False` or `0`. To hide this warning, set `show_warnings=False` or `enable_optimization=False`.\n"
     ]
    },
    {
     "data": {
      "application/vnd.jupyter.widget-view+json": {
       "model_id": "ed8d870a8acd49f08843c57f2912956f",
       "version_major": 2,
       "version_minor": 0
      },
      "text/plain": [
       "historical forecasts:   0%|          | 0/22 [00:00<?, ?it/s]"
      ]
     },
     "metadata": {},
     "output_type": "display_data"
    }
   ],
   "source": [
    "from darts.models import RegressionModel\n",
    "from sklearn.linear_model import Ridge\n",
    "\n",
    "model = RegressionModel(\n",
    "    lags=list(range(-1, -24, -1)), \n",
    "    lags_past_covariates=list(range(-1, -6, -1)),\n",
    "    lags_future_covariates=list(range(1,10,1)),  \n",
    "    output_chunk_length=24,\n",
    "\n",
    ")\n",
    "\n",
    "\n",
    "model.fit(\n",
    "    series=train_target_scaled,\n",
    "    future_covariates=train_covariates_scaled,\n",
    "    past_covariates=train_covariates_scaled)\n",
    "\n",
    "\n",
    "backtest_forecasts = model.historical_forecasts(\n",
    "    series=train_target_scaled,\n",
    "    past_covariates=train_covariates_scaled,\n",
    "    future_covariates=full_covariates_scaled,\n",
    "    start=0.1,\n",
    "    forecast_horizon=24,\n",
    "    stride=24,\n",
    "    retrain=True,\n",
    "    verbose=True\n",
    ")"
   ]
  },
  {
   "cell_type": "code",
   "execution_count": 41,
   "metadata": {},
   "outputs": [
    {
     "data": {
      "text/plain": [
       "<Axes: xlabel='time'>"
      ]
     },
     "execution_count": 41,
     "metadata": {},
     "output_type": "execute_result"
    },
    {
     "data": {
      "image/png": "[encoded data removed]",
      "text/plain": [
       "<Figure size 640x480 with 1 Axes>"
      ]
     },
     "metadata": {},
     "output_type": "display_data"
    }
   ],
   "source": [
    "train_target_scaled.plot()\n",
    "backtest_forecasts.plot()"
   ]
  },
  {
   "cell_type": "code",
   "execution_count": 39,
   "metadata": {},
   "outputs": [
    {
     "data": {
      "text/html": [
       "<div>\n",
       "<style scoped>\n",
       "    .dataframe tbody tr th:only-of-type {\n",
       "        vertical-align: middle;\n",
       "    }\n",
       "\n",
       "    .dataframe tbody tr th {\n",
       "        vertical-align: top;\n",
       "    }\n",
       "\n",
       "    .dataframe thead th {\n",
       "        text-align: right;\n",
       "    }\n",
       "</style>\n",
       "<table border=\"1\" class=\"dataframe\">\n",
       "  <thead>\n",
       "    <tr style=\"text-align: right;\">\n",
       "      <th>component</th>\n",
       "      <th>aFRR_UpCapPriceEUR</th>\n",
       "    </tr>\n",
       "    <tr>\n",
       "      <th>time</th>\n",
       "      <th></th>\n",
       "    </tr>\n",
       "  </thead>\n",
       "  <tbody>\n",
       "    <tr>\n",
       "      <th>2025-01-04 12:00:00</th>\n",
       "      <td>0.066282</td>\n",
       "    </tr>\n",
       "    <tr>\n",
       "      <th>2025-01-05 12:00:00</th>\n",
       "      <td>0.290861</td>\n",
       "    </tr>\n",
       "    <tr>\n",
       "      <th>2025-01-06 12:00:00</th>\n",
       "      <td>0.395131</td>\n",
       "    </tr>\n",
       "    <tr>\n",
       "      <th>2025-01-07 12:00:00</th>\n",
       "      <td>-0.001308</td>\n",
       "    </tr>\n",
       "    <tr>\n",
       "      <th>2025-01-08 12:00:00</th>\n",
       "      <td>-0.024738</td>\n",
       "    </tr>\n",
       "    <tr>\n",
       "      <th>2025-01-09 12:00:00</th>\n",
       "      <td>0.104238</td>\n",
       "    </tr>\n",
       "    <tr>\n",
       "      <th>2025-01-10 12:00:00</th>\n",
       "      <td>0.053890</td>\n",
       "    </tr>\n",
       "    <tr>\n",
       "      <th>2025-01-11 12:00:00</th>\n",
       "      <td>-0.052336</td>\n",
       "    </tr>\n",
       "    <tr>\n",
       "      <th>2025-01-12 12:00:00</th>\n",
       "      <td>0.220930</td>\n",
       "    </tr>\n",
       "    <tr>\n",
       "      <th>2025-01-13 12:00:00</th>\n",
       "      <td>-0.031518</td>\n",
       "    </tr>\n",
       "    <tr>\n",
       "      <th>2025-01-14 12:00:00</th>\n",
       "      <td>0.003122</td>\n",
       "    </tr>\n",
       "    <tr>\n",
       "      <th>2025-01-15 12:00:00</th>\n",
       "      <td>0.232089</td>\n",
       "    </tr>\n",
       "    <tr>\n",
       "      <th>2025-01-16 12:00:00</th>\n",
       "      <td>0.108810</td>\n",
       "    </tr>\n",
       "    <tr>\n",
       "      <th>2025-01-17 12:00:00</th>\n",
       "      <td>-0.062539</td>\n",
       "    </tr>\n",
       "    <tr>\n",
       "      <th>2025-01-18 12:00:00</th>\n",
       "      <td>0.098278</td>\n",
       "    </tr>\n",
       "    <tr>\n",
       "      <th>2025-01-19 12:00:00</th>\n",
       "      <td>0.070513</td>\n",
       "    </tr>\n",
       "    <tr>\n",
       "      <th>2025-01-20 12:00:00</th>\n",
       "      <td>0.071672</td>\n",
       "    </tr>\n",
       "    <tr>\n",
       "      <th>2025-01-21 12:00:00</th>\n",
       "      <td>0.170373</td>\n",
       "    </tr>\n",
       "    <tr>\n",
       "      <th>2025-01-22 12:00:00</th>\n",
       "      <td>0.350440</td>\n",
       "    </tr>\n",
       "    <tr>\n",
       "      <th>2025-01-23 12:00:00</th>\n",
       "      <td>0.579957</td>\n",
       "    </tr>\n",
       "    <tr>\n",
       "      <th>2025-01-24 12:00:00</th>\n",
       "      <td>0.229433</td>\n",
       "    </tr>\n",
       "    <tr>\n",
       "      <th>2025-01-25 12:00:00</th>\n",
       "      <td>-0.097107</td>\n",
       "    </tr>\n",
       "  </tbody>\n",
       "</table>\n",
       "</div>"
      ],
      "text/plain": [
       "component            aFRR_UpCapPriceEUR\n",
       "time                                   \n",
       "2025-01-04 12:00:00            0.066282\n",
       "2025-01-05 12:00:00            0.290861\n",
       "2025-01-06 12:00:00            0.395131\n",
       "2025-01-07 12:00:00           -0.001308\n",
       "2025-01-08 12:00:00           -0.024738\n",
       "2025-01-09 12:00:00            0.104238\n",
       "2025-01-10 12:00:00            0.053890\n",
       "2025-01-11 12:00:00           -0.052336\n",
       "2025-01-12 12:00:00            0.220930\n",
       "2025-01-13 12:00:00           -0.031518\n",
       "2025-01-14 12:00:00            0.003122\n",
       "2025-01-15 12:00:00            0.232089\n",
       "2025-01-16 12:00:00            0.108810\n",
       "2025-01-17 12:00:00           -0.062539\n",
       "2025-01-18 12:00:00            0.098278\n",
       "2025-01-19 12:00:00            0.070513\n",
       "2025-01-20 12:00:00            0.071672\n",
       "2025-01-21 12:00:00            0.170373\n",
       "2025-01-22 12:00:00            0.350440\n",
       "2025-01-23 12:00:00            0.579957\n",
       "2025-01-24 12:00:00            0.229433\n",
       "2025-01-25 12:00:00           -0.097107"
      ]
     },
     "execution_count": 39,
     "metadata": {},
     "output_type": "execute_result"
    }
   ],
   "source": [
    "backtest_forecasts.pd_dataframe()\n"
   ]
  },
  {
   "cell_type": "code",
   "execution_count": null,
   "metadata": {},
   "outputs": [],
   "source": [
    "test_target_"
   ]
  }
 ],
 "metadata": {
  "kernelspec": {
   "display_name": "mpc_env",
   "language": "python",
   "name": "python3"
  },
  "language_info": {
   "codemirror_mode": {
    "name": "ipython",
    "version": 3
   },
   "file_extension": ".py",
   "mimetype": "text/x-python",
   "name": "python",
   "nbconvert_exporter": "python",
   "pygments_lexer": "ipython3",
   "version": "3.12.2"
  }
 },
 "nbformat": 4,
 "nbformat_minor": 2
}
