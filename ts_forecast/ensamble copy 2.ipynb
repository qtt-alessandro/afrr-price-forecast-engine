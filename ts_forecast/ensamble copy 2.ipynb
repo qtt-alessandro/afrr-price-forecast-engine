{
 "cells": [
  {
   "cell_type": "code",
   "execution_count": 1,
   "metadata": {},
   "outputs": [],
   "source": [
    "import pandas as pd \n",
    "import matplotlib.pyplot as plt\n",
    "import seaborn as sns\n",
    "import matplotlib.pyplot as plt\n",
    "from ssa import *\n",
    "\n",
    "from darts import TimeSeries\n",
    "from darts.models import LinearRegressionModel\n",
    "from darts.metrics import mape, rmse\n",
    "import pandas as pd\n",
    "import numpy as np\n",
    "from darts import TimeSeries\n",
    "from darts.models import LinearRegressionModel\n",
    "from darts.dataprocessing.transformers import Scaler\n",
    "from darts.utils.missing_values import extract_subseries\n",
    "import matplotlib.pyplot as plt\n",
    "\n",
    "%load_ext autoreload\n",
    "%autoreload 2\n",
    "%matplotlib inline\n",
    "import warnings\n",
    "\n",
    "import matplotlib.pyplot as plt\n",
    "\n",
    "from darts.dataprocessing.transformers import Scaler\n",
    "from darts.datasets import AirPassengersDataset\n",
    "from darts.metrics import mape\n",
    "from darts.models import (\n",
    "    ExponentialSmoothing,\n",
    "    KalmanForecaster,\n",
    "    LinearRegressionModel,\n",
    "    NaiveDrift,\n",
    "    NaiveEnsembleModel,\n",
    "    NaiveSeasonal,\n",
    "    RandomForest,\n",
    "    RegressionEnsembleModel,\n",
    "    TCNModel,\n",
    ")\n",
    "from darts.models import RegressionModel\n",
    "from sklearn.linear_model import Ridge\n",
    "\n",
    "from darts.utils.timeseries_generation import (\n",
    "    datetime_attribute_timeseries as dt_attr,\n",
    ")\n",
    "\n",
    "warnings.filterwarnings(\"ignore\")\n",
    "\n",
    "import logging\n",
    "\n",
    "logging.disable(logging.CRITICAL)"
   ]
  },
  {
   "cell_type": "code",
   "execution_count": 2,
   "metadata": {},
   "outputs": [],
   "source": [
    "data = pd.read_parquet(\"../data/afrr_price.parquet\")"
   ]
  },
  {
   "cell_type": "code",
   "execution_count": 3,
   "metadata": {},
   "outputs": [],
   "source": [
    "data = data[['wind_offshore_dayahead', 'wind_onshore_dayahead',\n",
    "       'solar_dayahead','aFRR_DownCapPriceEUR', 'aFRR_UpCapPriceEUR', 'load_forecasts',\n",
    "       'da_price', 'prod_unbalance']]"
   ]
  },
  {
   "cell_type": "code",
   "execution_count": 4,
   "metadata": {},
   "outputs": [
    {
     "name": "stdout",
     "output_type": "stream",
     "text": [
      "----------------------------------------\n",
      "EMBEDDING SUMMARY:\n",
      "Embedding dimension\t:  120\n",
      "Trajectory dimensions\t: (120, 3265)\n",
      "Complete dimension\t: (120, 3265)\n",
      "Missing dimension     \t: (120, 0)\n",
      "----------------------------------------\n",
      "DECOMPOSITION SUMMARY:\n",
      "Rank of trajectory\t\t: 120\n",
      "Dimension of projection space\t: 113\n",
      "Characteristic of projection\t: 0.9997\n"
     ]
    }
   ],
   "source": [
    "ts = data[\"aFRR_UpCapPriceEUR\"]\n",
    "ssa_ts = mySSA(data[\"aFRR_UpCapPriceEUR\"])\n",
    "ssa_ts.embed(embedding_dimension=128, suspected_frequency=24, verbose=True)\n",
    "ssa_ts.decompose(True)\n",
    "components = [i for i in range(10)]\n",
    "ts_clean = ssa_ts.view_reconstruction(*[ssa_ts.Xs[i] for i in components], names=components, return_df=True, plot=False)"
   ]
  },
  {
   "cell_type": "code",
   "execution_count": 5,
   "metadata": {},
   "outputs": [],
   "source": [
    "data[\"aFRR_UpCapPriceEUR_cl\"] = ts_clean.values"
   ]
  },
  {
   "cell_type": "code",
   "execution_count": 6,
   "metadata": {},
   "outputs": [
    {
     "name": "stdout",
     "output_type": "stream",
     "text": [
      "Clean aligned series length: 1223\n"
     ]
    }
   ],
   "source": [
    "target_col = 'aFRR_UpCapPriceEUR_cl'\n",
    "exog_cols = ['wind_offshore_dayahead', 'wind_onshore_dayahead', \n",
    "             'solar_dayahead', 'load_forecasts', 'da_price', 'prod_unbalance']\n",
    "\n",
    "# Create TimeSeries objects\n",
    "target_series = TimeSeries.from_series(data[target_col], freq=\"1h\")\n",
    "covariates = TimeSeries.from_dataframe(data[exog_cols], freq=\"1h\")\n",
    "\n",
    "# Extract subseries without missing values\n",
    "target_subseries = extract_subseries(\n",
    "    series=target_series,\n",
    "    min_gap_size=1\n",
    ")\n",
    "\n",
    "covariates_subseries = extract_subseries(\n",
    "    series=covariates,\n",
    "    min_gap_size=1,\n",
    "    mode='all'\n",
    ")\n",
    "\n",
    "target_clean = max(target_subseries, key=len)\n",
    "covariates_clean = max(covariates_subseries, key=len)\n",
    "start_time = max(target_clean.start_time(), covariates_clean.start_time())\n",
    "end_time = min(target_clean.end_time(), covariates_clean.end_time())\n",
    "target_final = target_clean.slice(start_time, end_time)\n",
    "covariates_final = covariates_clean.slice(start_time, end_time)\n",
    "\n",
    "print(f\"Clean aligned series length: {len(target_final)}\")\n",
    "\n",
    "train_cutoff = int(len(target_final) * 0.5)\n",
    "train_target = target_final[:train_cutoff]\n",
    "test_target = target_final[train_cutoff:]\n",
    "\n",
    "max_past_lag = 24\n",
    "\n",
    "train_covariates = covariates_final[:train_cutoff]\n",
    "test_covariates_start = train_cutoff - max_past_lag\n",
    "test_covariates = covariates_final[test_covariates_start:]\n",
    "\n",
    "# Scale the data\n",
    "scaler_target = Scaler()\n",
    "scaler_covariates = Scaler()\n",
    "train_target_scaled = scaler_target.fit_transform(train_target)\n",
    "test_target_scaled = scaler_target.fit_transform(test_target)\n",
    "train_covariates_scaled = scaler_covariates.fit_transform(train_covariates)\n",
    "test_covariates_scaled = scaler_covariates.transform(test_covariates)\n",
    "full_covariates = scaler_covariates.transform(covariates_final)"
   ]
  },
  {
   "cell_type": "code",
   "execution_count": 14,
   "metadata": {},
   "outputs": [],
   "source": [
    "from gp_regressor import GPRegressor\n",
    "from sklearn.gaussian_process import GaussianProcessRegressor\n",
    "from sklearn.gaussian_process.kernels import DotProduct, WhiteKernel"
   ]
  },
  {
   "cell_type": "code",
   "execution_count": null,
   "metadata": {},
   "outputs": [
    {
     "data": {
      "application/vnd.jupyter.widget-view+json": {
       "model_id": "a04a8b325d4d474d80bb605a11f2b16e",
       "version_major": 2,
       "version_minor": 0
      },
      "text/plain": [
       "historical forecasts:   0%|          | 0/1 [00:00<?, ?it/s]"
      ]
     },
     "metadata": {},
     "output_type": "display_data"
    }
   ],
   "source": [
    "kernel = DotProduct() + WhiteKernel()\n",
    "\n",
    "model = GPRegressor(\n",
    "    lags=12,                    \n",
    "    lags_past_covariates=12, \n",
    "\tlags_future_covariates=[0, 1, 2],   \n",
    "    output_chunk_length=24,     \n",
    "    kernel=kernel\n",
    ")\n",
    "\n",
    "model.fit(\n",
    "    train_target_scaled,\n",
    "    past_covariates=full_covariates,\n",
    "\tfuture_covariates=full_covariates,\n",
    ")\n",
    "\n",
    "pred_series = model.predict(\n",
    "    n=24,                      \n",
    "    num_samples=100,\n",
    "    past_covariates=full_covariates, \n",
    "\tfuture_covariates=full_covariates\n",
    ")\n",
    "\n",
    "\n",
    "backtest_forecasts = model.historical_forecasts(\n",
    "    series=test_target_scaled,\n",
    "    past_covariates=test_covariates_scaled,\n",
    "    future_covariates=full_covariates,\n",
    "    start=0.05,\n",
    "    forecast_horizon=1,\n",
    "\tnum_samples=1, \n",
    "\tpredict_likelihood_parameters=True,\n",
    "    stride=24,\n",
    "    retrain=False,\n",
    "    verbose=True)"
   ]
  },
  {
   "cell_type": "code",
   "execution_count": 57,
   "metadata": {},
   "outputs": [
    {
     "data": {
      "text/plain": [
       "<Axes: xlabel='time_utc'>"
      ]
     },
     "execution_count": 57,
     "metadata": {},
     "output_type": "execute_result"
    },
    {
     "data": {
      "image/png": "[encoded data removed]",
      "text/plain": [
       "<Figure size 1100x400 with 1 Axes>"
      ]
     },
     "metadata": {},
     "output_type": "display_data"
    }
   ],
   "source": [
    "pred_series = model.predict(\n",
    "    n=24,                      \n",
    "    num_samples=100,\n",
    "    past_covariates=full_covariates, \n",
    "\tfuture_covariates=full_covariates\n",
    ")\n",
    "pred_series.plot()"
   ]
  },
  {
   "cell_type": "code",
   "execution_count": null,
   "metadata": {},
   "outputs": [],
   "source": []
  },
  {
   "cell_type": "code",
   "execution_count": null,
   "metadata": {},
   "outputs": [],
   "source": []
  },
  {
   "cell_type": "code",
   "execution_count": null,
   "metadata": {},
   "outputs": [],
   "source": []
  },
  {
   "cell_type": "code",
   "execution_count": null,
   "metadata": {},
   "outputs": [],
   "source": []
  },
  {
   "cell_type": "code",
   "execution_count": null,
   "metadata": {},
   "outputs": [],
   "source": []
  },
  {
   "cell_type": "code",
   "execution_count": null,
   "metadata": {},
   "outputs": [
    {
     "data": {
      "application/vnd.jupyter.widget-view+json": {
       "model_id": "9ab8c7eeb2774cf1a2329fe43d665a21",
       "version_major": 2,
       "version_minor": 0
      },
      "text/plain": [
       "historical forecasts:   0%|          | 0/22 [00:00<?, ?it/s]"
      ]
     },
     "metadata": {},
     "output_type": "display_data"
    }
   ],
   "source": [
    "model_lr = LinearRegressionModel(output_chunk_length=24,     \n",
    "                                lags=list(range(-1, -1, -1)), \n",
    "                                lags_past_covariates=list(range(-1, -8, -1)),\n",
    "                                lags_future_covariates=list(range(1, 3, 1)),\n",
    "                                likelihood=\"quantile\")\n",
    "\n",
    "model_rf = RandomForest(lags=12, output_chunk_length=24)\n",
    "model_ridge = RegressionModel(model=Ridge(alpha=1.0), lags=12, output_chunk_length=24) # example using Ridge regression\n",
    "\n",
    "ensamble_model = RegressionEnsembleModel(forecasting_models=[model_lr],\n",
    "                                         regression_train_n_points=1)\n",
    "\n",
    "ensamble_model.fit(\n",
    "    series=train_target_scaled,\n",
    "    future_covariates=full_covariates,\n",
    "    past_covariates=train_covariates_scaled)\n",
    "\n",
    "backtest_forecasts = ensamble_model.historical_forecasts(\n",
    "    series=test_target_scaled,\n",
    "    past_covariates=test_covariates_scaled,\n",
    "    future_covariates=full_covariates,\n",
    "    start=0.1,\n",
    "    forecast_horizon=24,\n",
    "    stride=24,\n",
    "    retrain=True,\n",
    "    verbose=True)"
   ]
  },
  {
   "cell_type": "code",
   "execution_count": null,
   "metadata": {},
   "outputs": [],
   "source": []
  }
 ],
 "metadata": {
  "kernelspec": {
   "display_name": "mpc_env",
   "language": "python",
   "name": "python3"
  },
  "language_info": {
   "codemirror_mode": {
    "name": "ipython",
    "version": 3
   },
   "file_extension": ".py",
   "mimetype": "text/x-python",
   "name": "python",
   "nbconvert_exporter": "python",
   "pygments_lexer": "ipython3",
   "version": "3.12.2"
  }
 },
 "nbformat": 4,
 "nbformat_minor": 2
}
