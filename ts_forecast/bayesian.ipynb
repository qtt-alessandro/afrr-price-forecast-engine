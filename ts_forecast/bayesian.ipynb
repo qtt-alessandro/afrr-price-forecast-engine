{
 "cells": [
  {
   "cell_type": "code",
   "execution_count": 1,
   "metadata": {},
   "outputs": [],
   "source": [
    "import pandas as pd \n",
    "import matplotlib.pyplot as plt\n",
    "import seaborn as sns\n",
    "import matplotlib.pyplot as plt\n",
    "from ssa import *\n",
    "\n",
    "from darts import TimeSeries\n",
    "from darts.models import LinearRegressionModel\n",
    "from darts.metrics import mape, rmse\n"
   ]
  },
  {
   "cell_type": "code",
   "execution_count": 19,
   "metadata": {},
   "outputs": [],
   "source": [
    "data = pd.read_parquet(\"../data/afrr_price.parquet\")"
   ]
  },
  {
   "cell_type": "code",
   "execution_count": 20,
   "metadata": {},
   "outputs": [],
   "source": [
    "data = data[['wind_offshore_dayahead', 'wind_onshore_dayahead',\n",
    "       'solar_dayahead','aFRR_DownCapPriceEUR', 'aFRR_UpCapPriceEUR', 'load_forecasts',\n",
    "       'da_price', 'prod_unbalance']]"
   ]
  },
  {
   "cell_type": "code",
   "execution_count": 21,
   "metadata": {},
   "outputs": [
    {
     "name": "stdout",
     "output_type": "stream",
     "text": [
      "----------------------------------------\n",
      "EMBEDDING SUMMARY:\n",
      "Embedding dimension\t:  120\n",
      "Trajectory dimensions\t: (120, 3265)\n",
      "Complete dimension\t: (120, 3265)\n",
      "Missing dimension     \t: (120, 0)\n",
      "----------------------------------------\n",
      "DECOMPOSITION SUMMARY:\n",
      "Rank of trajectory\t\t: 120\n",
      "Dimension of projection space\t: 113\n",
      "Characteristic of projection\t: 0.9997\n"
     ]
    }
   ],
   "source": [
    "ts = data[\"aFRR_UpCapPriceEUR\"]\n",
    "ssa_ts = mySSA(data[\"aFRR_UpCapPriceEUR\"])\n",
    "ssa_ts.embed(embedding_dimension=128, suspected_frequency=24, verbose=True)\n",
    "ssa_ts.decompose(True)\n",
    "components = [i for i in range(10)]\n",
    "ts_clean = ssa_ts.view_reconstruction(*[ssa_ts.Xs[i] for i in components], names=components, return_df=True, plot=False)"
   ]
  },
  {
   "cell_type": "code",
   "execution_count": 22,
   "metadata": {},
   "outputs": [],
   "source": [
    "data[\"aFRR_UpCapPriceEUR_cl\"] = ts_clean.values"
   ]
  },
  {
   "cell_type": "code",
   "execution_count": 29,
   "metadata": {},
   "outputs": [],
   "source": [
    "features_df = data[['wind_offshore_dayahead', 'wind_onshore_dayahead', 'solar_dayahead', 'load_forecasts',\n",
    "       'da_price', 'prod_unbalance']]\n",
    "\n",
    "target_df = data[[\"aFRR_UpCapPriceEUR_cl\"]]"
   ]
  },
  {
   "cell_type": "code",
   "execution_count": 157,
   "metadata": {},
   "outputs": [],
   "source": [
    "def create_lag_features(y, X=None, input_chunk_length=1, future_covariates_length=0):\n",
    "    if isinstance(y, pd.Series):\n",
    "        y = y.to_frame(name='y')\n",
    "    \n",
    "    # Create empty result DataFrames with same index as y\n",
    "    past_lags = pd.DataFrame(index=y.index)\n",
    "    future_covariates = pd.DataFrame(index=y.index) if future_covariates_length > 0 else None\n",
    "    \n",
    "    # Create past lags of target variable - use POSITIVE shift for PAST values\n",
    "    for lag in range(1, input_chunk_length + 1):\n",
    "        for col in y.columns:\n",
    "            past_lags[f'{col}_lag_{lag}'] = y[col].shift(lag)  # Positive shift = past values\n",
    "            if future_covariates_length > 0:\n",
    "                future_covariates[f'{col}_lag_{lag}'] = 0\n",
    "    # Add past lags of covariates if provided\n",
    "    if X is not None:\n",
    "        for lag in range(1, input_chunk_length + 1):\n",
    "            for col in X.columns:\n",
    "                past_lags[f'{col}_lag_{lag}'] = X[col].shift(lag)  # Positive shift = past values\n",
    "        \n",
    "        # Add future covariates if requested\n",
    "        if future_covariates_length > 0:\n",
    "            for lag in range(1, future_covariates_length + 1):\n",
    "                for col in X.columns:\n",
    "                    future_covariates[f'{col}_lag_{lag}'] = X[col].shift(-lag)  # Negative shift = future values\n",
    "    \n",
    "    return past_lags.dropna(), future_covariates.dropna()"
   ]
  },
  {
   "cell_type": "code",
   "execution_count": 158,
   "metadata": {},
   "outputs": [],
   "source": [
    "past_lags, future_df = create_lag_features(target_df, X=features_df, input_chunk_length=2, future_covariates_length=4)"
   ]
  },
  {
   "cell_type": "code",
   "execution_count": 159,
   "metadata": {},
   "outputs": [],
   "source": [
    "input_chunk_length = 2"
   ]
  },
  {
   "cell_type": "code",
   "execution_count": 160,
   "metadata": {},
   "outputs": [
    {
     "name": "stderr",
     "output_type": "stream",
     "text": [
      "/tmp/ipykernel_9991/2280633457.py:6: FutureWarning: Setting an item of incompatible dtype is deprecated and will raise an error in a future version of pandas. Value '59.82702625652235' has dtype incompatible with int64, please explicitly cast to a compatible dtype first.\n",
      "  future_df.loc[future_df.index[0], col_name] = last_values.iloc[-lag]['aFRR_UpCapPriceEUR_cl']\n",
      "/tmp/ipykernel_9991/2280633457.py:6: FutureWarning: Setting an item of incompatible dtype is deprecated and will raise an error in a future version of pandas. Value '52.56213352603012' has dtype incompatible with int64, please explicitly cast to a compatible dtype first.\n",
      "  future_df.loc[future_df.index[0], col_name] = last_values.iloc[-lag]['aFRR_UpCapPriceEUR_cl']\n"
     ]
    }
   ],
   "source": [
    "\n",
    "last_values = y_test.iloc[:2].copy()\n",
    "\n",
    "for lag in range(1, input_chunk_length + 1):\n",
    "    col_name = f'aFRR_UpCapPriceEUR_cl_lag_{lag}'\n",
    "    \n",
    "    future_df.loc[future_df.index[0], col_name] = last_values.iloc[-lag]['aFRR_UpCapPriceEUR_cl']\n",
    "    \n",
    "    if len(future_df) > 1:\n",
    "        if lag > 1:\n",
    "            future_df.loc[future_df.index[1], col_name] = last_values.iloc[-lag+1]['aFRR_UpCapPriceEUR_cl']"
   ]
  },
  {
   "cell_type": "code",
   "execution_count": 162,
   "metadata": {},
   "outputs": [
    {
     "ename": "ValueError",
     "evalue": "The feature names should match those that were passed during fit.\nFeature names unseen at fit time:\n- da_price_lag_3\n- da_price_lag_4\n- load_forecasts_lag_3\n- load_forecasts_lag_4\n- prod_unbalance_lag_3\n- ...\n",
     "output_type": "error",
     "traceback": [
      "\u001b[0;31m---------------------------------------------------------------------------\u001b[0m",
      "\u001b[0;31mValueError\u001b[0m                                Traceback (most recent call last)",
      "Cell \u001b[0;32mIn[162], line 1\u001b[0m\n\u001b[0;32m----> 1\u001b[0m model\u001b[38;5;241m.\u001b[39mpredict(future_df\u001b[38;5;241m.\u001b[39miloc[[\u001b[38;5;241m0\u001b[39m]])\n",
      "File \u001b[0;32m~/anaconda3/envs/opt_env/lib/python3.12/site-packages/sklearn/linear_model/_base.py:297\u001b[0m, in \u001b[0;36mLinearModel.predict\u001b[0;34m(self, X)\u001b[0m\n\u001b[1;32m    283\u001b[0m \u001b[38;5;28;01mdef\u001b[39;00m \u001b[38;5;21mpredict\u001b[39m(\u001b[38;5;28mself\u001b[39m, X):\n\u001b[1;32m    284\u001b[0m \u001b[38;5;250m    \u001b[39m\u001b[38;5;124;03m\"\"\"\u001b[39;00m\n\u001b[1;32m    285\u001b[0m \u001b[38;5;124;03m    Predict using the linear model.\u001b[39;00m\n\u001b[1;32m    286\u001b[0m \n\u001b[0;32m   (...)\u001b[0m\n\u001b[1;32m    295\u001b[0m \u001b[38;5;124;03m        Returns predicted values.\u001b[39;00m\n\u001b[1;32m    296\u001b[0m \u001b[38;5;124;03m    \"\"\"\u001b[39;00m\n\u001b[0;32m--> 297\u001b[0m     \u001b[38;5;28;01mreturn\u001b[39;00m \u001b[38;5;28mself\u001b[39m\u001b[38;5;241m.\u001b[39m_decision_function(X)\n",
      "File \u001b[0;32m~/anaconda3/envs/opt_env/lib/python3.12/site-packages/sklearn/linear_model/_base.py:276\u001b[0m, in \u001b[0;36mLinearModel._decision_function\u001b[0;34m(self, X)\u001b[0m\n\u001b[1;32m    273\u001b[0m \u001b[38;5;28;01mdef\u001b[39;00m \u001b[38;5;21m_decision_function\u001b[39m(\u001b[38;5;28mself\u001b[39m, X):\n\u001b[1;32m    274\u001b[0m     check_is_fitted(\u001b[38;5;28mself\u001b[39m)\n\u001b[0;32m--> 276\u001b[0m     X \u001b[38;5;241m=\u001b[39m validate_data(\u001b[38;5;28mself\u001b[39m, X, accept_sparse\u001b[38;5;241m=\u001b[39m[\u001b[38;5;124m\"\u001b[39m\u001b[38;5;124mcsr\u001b[39m\u001b[38;5;124m\"\u001b[39m, \u001b[38;5;124m\"\u001b[39m\u001b[38;5;124mcsc\u001b[39m\u001b[38;5;124m\"\u001b[39m, \u001b[38;5;124m\"\u001b[39m\u001b[38;5;124mcoo\u001b[39m\u001b[38;5;124m\"\u001b[39m], reset\u001b[38;5;241m=\u001b[39m\u001b[38;5;28;01mFalse\u001b[39;00m)\n\u001b[1;32m    277\u001b[0m     coef_ \u001b[38;5;241m=\u001b[39m \u001b[38;5;28mself\u001b[39m\u001b[38;5;241m.\u001b[39mcoef_\n\u001b[1;32m    278\u001b[0m     \u001b[38;5;28;01mif\u001b[39;00m coef_\u001b[38;5;241m.\u001b[39mndim \u001b[38;5;241m==\u001b[39m \u001b[38;5;241m1\u001b[39m:\n",
      "File \u001b[0;32m~/anaconda3/envs/opt_env/lib/python3.12/site-packages/sklearn/utils/validation.py:2919\u001b[0m, in \u001b[0;36mvalidate_data\u001b[0;34m(_estimator, X, y, reset, validate_separately, skip_check_array, **check_params)\u001b[0m\n\u001b[1;32m   2835\u001b[0m \u001b[38;5;28;01mdef\u001b[39;00m \u001b[38;5;21mvalidate_data\u001b[39m(\n\u001b[1;32m   2836\u001b[0m     _estimator,\n\u001b[1;32m   2837\u001b[0m     \u001b[38;5;241m/\u001b[39m,\n\u001b[0;32m   (...)\u001b[0m\n\u001b[1;32m   2843\u001b[0m     \u001b[38;5;241m*\u001b[39m\u001b[38;5;241m*\u001b[39mcheck_params,\n\u001b[1;32m   2844\u001b[0m ):\n\u001b[1;32m   2845\u001b[0m \u001b[38;5;250m    \u001b[39m\u001b[38;5;124;03m\"\"\"Validate input data and set or check feature names and counts of the input.\u001b[39;00m\n\u001b[1;32m   2846\u001b[0m \n\u001b[1;32m   2847\u001b[0m \u001b[38;5;124;03m    This helper function should be used in an estimator that requires input\u001b[39;00m\n\u001b[0;32m   (...)\u001b[0m\n\u001b[1;32m   2917\u001b[0m \u001b[38;5;124;03m        validated.\u001b[39;00m\n\u001b[1;32m   2918\u001b[0m \u001b[38;5;124;03m    \"\"\"\u001b[39;00m\n\u001b[0;32m-> 2919\u001b[0m     _check_feature_names(_estimator, X, reset\u001b[38;5;241m=\u001b[39mreset)\n\u001b[1;32m   2920\u001b[0m     tags \u001b[38;5;241m=\u001b[39m get_tags(_estimator)\n\u001b[1;32m   2921\u001b[0m     \u001b[38;5;28;01mif\u001b[39;00m y \u001b[38;5;129;01mis\u001b[39;00m \u001b[38;5;28;01mNone\u001b[39;00m \u001b[38;5;129;01mand\u001b[39;00m tags\u001b[38;5;241m.\u001b[39mtarget_tags\u001b[38;5;241m.\u001b[39mrequired:\n",
      "File \u001b[0;32m~/anaconda3/envs/opt_env/lib/python3.12/site-packages/sklearn/utils/validation.py:2777\u001b[0m, in \u001b[0;36m_check_feature_names\u001b[0;34m(estimator, X, reset)\u001b[0m\n\u001b[1;32m   2774\u001b[0m \u001b[38;5;28;01mif\u001b[39;00m \u001b[38;5;129;01mnot\u001b[39;00m missing_names \u001b[38;5;129;01mand\u001b[39;00m \u001b[38;5;129;01mnot\u001b[39;00m unexpected_names:\n\u001b[1;32m   2775\u001b[0m     message \u001b[38;5;241m+\u001b[39m\u001b[38;5;241m=\u001b[39m \u001b[38;5;124m\"\u001b[39m\u001b[38;5;124mFeature names must be in the same order as they were in fit.\u001b[39m\u001b[38;5;130;01m\\n\u001b[39;00m\u001b[38;5;124m\"\u001b[39m\n\u001b[0;32m-> 2777\u001b[0m \u001b[38;5;28;01mraise\u001b[39;00m \u001b[38;5;167;01mValueError\u001b[39;00m(message)\n",
      "\u001b[0;31mValueError\u001b[0m: The feature names should match those that were passed during fit.\nFeature names unseen at fit time:\n- da_price_lag_3\n- da_price_lag_4\n- load_forecasts_lag_3\n- load_forecasts_lag_4\n- prod_unbalance_lag_3\n- ...\n"
     ]
    }
   ],
   "source": [
    "model.predict(future_df.iloc[[0]])"
   ]
  },
  {
   "cell_type": "code",
   "execution_count": 165,
   "metadata": {},
   "outputs": [
    {
     "ename": "ValueError",
     "evalue": "A distribution name is required.",
     "output_type": "error",
     "traceback": [
      "\u001b[0;31m---------------------------------------------------------------------------\u001b[0m",
      "\u001b[0;31mValueError\u001b[0m                                Traceback (most recent call last)",
      "Cell \u001b[0;32mIn[165], line 1\u001b[0m\n\u001b[0;32m----> 1\u001b[0m \u001b[38;5;28;01mfrom\u001b[39;00m \u001b[38;5;21;01msktime\u001b[39;00m\u001b[38;5;21;01m.\u001b[39;00m\u001b[38;5;21;01mtransformations\u001b[39;00m\u001b[38;5;21;01m.\u001b[39;00m\u001b[38;5;21;01mseries\u001b[39;00m\u001b[38;5;21;01m.\u001b[39;00m\u001b[38;5;21;01mlag\u001b[39;00m \u001b[38;5;28;01mimport\u001b[39;00m LagTransformer\n\u001b[1;32m      3\u001b[0m \u001b[38;5;66;03m# Create lag features\u001b[39;00m\n\u001b[1;32m      4\u001b[0m lag_transformer \u001b[38;5;241m=\u001b[39m LagTransformer(lags\u001b[38;5;241m=\u001b[39m\u001b[38;5;28mlist\u001b[39m(\u001b[38;5;28mrange\u001b[39m(\u001b[38;5;241m1\u001b[39m, input_chunk_length\u001b[38;5;241m+\u001b[39m\u001b[38;5;241m1\u001b[39m)))\n",
      "File \u001b[0;32m~/anaconda3/envs/opt_env/lib/python3.12/site-packages/sktime/transformations/series/lag.py:10\u001b[0m\n\u001b[1;32m      7\u001b[0m \u001b[38;5;28;01mimport\u001b[39;00m \u001b[38;5;21;01mnumpy\u001b[39;00m \u001b[38;5;28;01mas\u001b[39;00m \u001b[38;5;21;01mnp\u001b[39;00m\n\u001b[1;32m      8\u001b[0m \u001b[38;5;28;01mimport\u001b[39;00m \u001b[38;5;21;01mpandas\u001b[39;00m \u001b[38;5;28;01mas\u001b[39;00m \u001b[38;5;21;01mpd\u001b[39;00m\n\u001b[0;32m---> 10\u001b[0m \u001b[38;5;28;01mfrom\u001b[39;00m \u001b[38;5;21;01msktime\u001b[39;00m\u001b[38;5;21;01m.\u001b[39;00m\u001b[38;5;21;01mtransformations\u001b[39;00m\u001b[38;5;21;01m.\u001b[39;00m\u001b[38;5;21;01mbase\u001b[39;00m \u001b[38;5;28;01mimport\u001b[39;00m BaseTransformer\n\u001b[1;32m     11\u001b[0m \u001b[38;5;28;01mfrom\u001b[39;00m \u001b[38;5;21;01msktime\u001b[39;00m\u001b[38;5;21;01m.\u001b[39;00m\u001b[38;5;21;01mutils\u001b[39;00m\u001b[38;5;21;01m.\u001b[39;00m\u001b[38;5;21;01mmultiindex\u001b[39;00m \u001b[38;5;28;01mimport\u001b[39;00m flatten_multiindex\n\u001b[1;32m     12\u001b[0m \u001b[38;5;28;01mfrom\u001b[39;00m \u001b[38;5;21;01msktime\u001b[39;00m\u001b[38;5;21;01m.\u001b[39;00m\u001b[38;5;21;01mutils\u001b[39;00m\u001b[38;5;21;01m.\u001b[39;00m\u001b[38;5;21;01mwarnings\u001b[39;00m \u001b[38;5;28;01mimport\u001b[39;00m warn\n",
      "File \u001b[0;32m~/anaconda3/envs/opt_env/lib/python3.12/site-packages/sktime/transformations/base.py:57\u001b[0m\n\u001b[1;32m     54\u001b[0m \u001b[38;5;28;01mimport\u001b[39;00m \u001b[38;5;21;01mpandas\u001b[39;00m \u001b[38;5;28;01mas\u001b[39;00m \u001b[38;5;21;01mpd\u001b[39;00m\n\u001b[1;32m     56\u001b[0m \u001b[38;5;28;01mfrom\u001b[39;00m \u001b[38;5;21;01msktime\u001b[39;00m\u001b[38;5;21;01m.\u001b[39;00m\u001b[38;5;21;01mbase\u001b[39;00m \u001b[38;5;28;01mimport\u001b[39;00m BaseEstimator\n\u001b[0;32m---> 57\u001b[0m \u001b[38;5;28;01mfrom\u001b[39;00m \u001b[38;5;21;01msktime\u001b[39;00m\u001b[38;5;21;01m.\u001b[39;00m\u001b[38;5;21;01mdatatypes\u001b[39;00m \u001b[38;5;28;01mimport\u001b[39;00m (\n\u001b[1;32m     58\u001b[0m     VectorizedDF,\n\u001b[1;32m     59\u001b[0m     check_is_error_msg,\n\u001b[1;32m     60\u001b[0m     check_is_mtype,\n\u001b[1;32m     61\u001b[0m     check_is_scitype,\n\u001b[1;32m     62\u001b[0m     convert,\n\u001b[1;32m     63\u001b[0m     convert_to,\n\u001b[1;32m     64\u001b[0m     mtype_to_scitype,\n\u001b[1;32m     65\u001b[0m     update_data,\n\u001b[1;32m     66\u001b[0m )\n\u001b[1;32m     67\u001b[0m \u001b[38;5;28;01mfrom\u001b[39;00m \u001b[38;5;21;01msktime\u001b[39;00m\u001b[38;5;21;01m.\u001b[39;00m\u001b[38;5;21;01mdatatypes\u001b[39;00m\u001b[38;5;21;01m.\u001b[39;00m\u001b[38;5;21;01m_dtypekind\u001b[39;00m \u001b[38;5;28;01mimport\u001b[39;00m DtypeKind\n\u001b[1;32m     68\u001b[0m \u001b[38;5;28;01mfrom\u001b[39;00m \u001b[38;5;21;01msktime\u001b[39;00m\u001b[38;5;21;01m.\u001b[39;00m\u001b[38;5;21;01mdatatypes\u001b[39;00m\u001b[38;5;21;01m.\u001b[39;00m\u001b[38;5;21;01m_series_as_panel\u001b[39;00m \u001b[38;5;28;01mimport\u001b[39;00m convert_to_scitype\n",
      "File \u001b[0;32m~/anaconda3/envs/opt_env/lib/python3.12/site-packages/sktime/datatypes/__init__.py:3\u001b[0m\n\u001b[1;32m      1\u001b[0m \u001b[38;5;124;03m\"\"\"Module exports: data type definitions, checks, validation, fixtures, converters.\"\"\"\u001b[39;00m\n\u001b[0;32m----> 3\u001b[0m \u001b[38;5;28;01mfrom\u001b[39;00m \u001b[38;5;21;01msktime\u001b[39;00m\u001b[38;5;21;01m.\u001b[39;00m\u001b[38;5;21;01mdatatypes\u001b[39;00m\u001b[38;5;21;01m.\u001b[39;00m\u001b[38;5;21;01m_check\u001b[39;00m \u001b[38;5;28;01mimport\u001b[39;00m (\n\u001b[1;32m      4\u001b[0m     check_is_error_msg,\n\u001b[1;32m      5\u001b[0m     check_is_mtype,\n\u001b[1;32m      6\u001b[0m     check_is_scitype,\n\u001b[1;32m      7\u001b[0m     check_raise,\n\u001b[1;32m      8\u001b[0m     mtype,\n\u001b[1;32m      9\u001b[0m     scitype,\n\u001b[1;32m     10\u001b[0m )\n\u001b[1;32m     11\u001b[0m \u001b[38;5;28;01mfrom\u001b[39;00m \u001b[38;5;21;01msktime\u001b[39;00m\u001b[38;5;21;01m.\u001b[39;00m\u001b[38;5;21;01mdatatypes\u001b[39;00m\u001b[38;5;21;01m.\u001b[39;00m\u001b[38;5;21;01m_convert\u001b[39;00m \u001b[38;5;28;01mimport\u001b[39;00m convert, convert_to\n\u001b[1;32m     12\u001b[0m \u001b[38;5;28;01mfrom\u001b[39;00m \u001b[38;5;21;01msktime\u001b[39;00m\u001b[38;5;21;01m.\u001b[39;00m\u001b[38;5;21;01mdatatypes\u001b[39;00m\u001b[38;5;21;01m.\u001b[39;00m\u001b[38;5;21;01m_examples\u001b[39;00m \u001b[38;5;28;01mimport\u001b[39;00m get_examples\n",
      "File \u001b[0;32m~/anaconda3/envs/opt_env/lib/python3.12/site-packages/sktime/datatypes/_check.py:32\u001b[0m\n\u001b[1;32m     30\u001b[0m \u001b[38;5;28;01mfrom\u001b[39;00m \u001b[38;5;21;01msktime\u001b[39;00m\u001b[38;5;21;01m.\u001b[39;00m\u001b[38;5;21;01mdatatypes\u001b[39;00m\u001b[38;5;21;01m.\u001b[39;00m\u001b[38;5;21;01m_base\u001b[39;00m \u001b[38;5;28;01mimport\u001b[39;00m BaseDatatype\n\u001b[1;32m     31\u001b[0m \u001b[38;5;28;01mfrom\u001b[39;00m \u001b[38;5;21;01msktime\u001b[39;00m\u001b[38;5;21;01m.\u001b[39;00m\u001b[38;5;21;01mdatatypes\u001b[39;00m\u001b[38;5;21;01m.\u001b[39;00m\u001b[38;5;21;01m_base\u001b[39;00m\u001b[38;5;21;01m.\u001b[39;00m\u001b[38;5;21;01m_common\u001b[39;00m \u001b[38;5;28;01mimport\u001b[39;00m _metadata_requested, _ret\n\u001b[0;32m---> 32\u001b[0m \u001b[38;5;28;01mfrom\u001b[39;00m \u001b[38;5;21;01msktime\u001b[39;00m\u001b[38;5;21;01m.\u001b[39;00m\u001b[38;5;21;01mdatatypes\u001b[39;00m\u001b[38;5;21;01m.\u001b[39;00m\u001b[38;5;21;01m_registry\u001b[39;00m \u001b[38;5;28;01mimport\u001b[39;00m AMBIGUOUS_MTYPES, SCITYPE_LIST, mtype_to_scitype\n\u001b[1;32m     35\u001b[0m \u001b[38;5;28;01mdef\u001b[39;00m \u001b[38;5;21mget_check_dict\u001b[39m(soft_deps\u001b[38;5;241m=\u001b[39m\u001b[38;5;124m\"\u001b[39m\u001b[38;5;124mpresent\u001b[39m\u001b[38;5;124m\"\u001b[39m):\n\u001b[1;32m     36\u001b[0m \u001b[38;5;250m    \u001b[39m\u001b[38;5;124;03m\"\"\"Retrieve check_dict, caches the first time it is requested.\u001b[39;00m\n\u001b[1;32m     37\u001b[0m \n\u001b[1;32m     38\u001b[0m \u001b[38;5;124;03m    This is to avoid repeated, time consuming crawling in generate_check_dict,\u001b[39;00m\n\u001b[0;32m   (...)\u001b[0m\n\u001b[1;32m     45\u001b[0m \u001b[38;5;124;03m        \"all\" - all checks are included\u001b[39;00m\n\u001b[1;32m     46\u001b[0m \u001b[38;5;124;03m    \"\"\"\u001b[39;00m\n",
      "File \u001b[0;32m~/anaconda3/envs/opt_env/lib/python3.12/site-packages/sktime/datatypes/_registry.py:45\u001b[0m\n\u001b[1;32m      2\u001b[0m \u001b[38;5;124;03m\"\"\"Registry of mtypes and scitypes.\u001b[39;00m\n\u001b[1;32m      3\u001b[0m \n\u001b[1;32m      4\u001b[0m \u001b[38;5;124;03mNote for extenders: new mtypes for an existing scitypes\u001b[39;00m\n\u001b[0;32m   (...)\u001b[0m\n\u001b[1;32m     38\u001b[0m \u001b[38;5;124;03m---\u001b[39;00m\n\u001b[1;32m     39\u001b[0m \u001b[38;5;124;03m\"\"\"\u001b[39;00m\n\u001b[1;32m     41\u001b[0m \u001b[38;5;28;01mfrom\u001b[39;00m \u001b[38;5;21;01msktime\u001b[39;00m\u001b[38;5;21;01m.\u001b[39;00m\u001b[38;5;21;01mdatatypes\u001b[39;00m\u001b[38;5;21;01m.\u001b[39;00m\u001b[38;5;21;01m_alignment\u001b[39;00m\u001b[38;5;21;01m.\u001b[39;00m\u001b[38;5;21;01m_registry\u001b[39;00m \u001b[38;5;28;01mimport\u001b[39;00m (\n\u001b[1;32m     42\u001b[0m     MTYPE_LIST_ALIGNMENT,\n\u001b[1;32m     43\u001b[0m     MTYPE_REGISTER_ALIGNMENT,\n\u001b[1;32m     44\u001b[0m )\n\u001b[0;32m---> 45\u001b[0m \u001b[38;5;28;01mfrom\u001b[39;00m \u001b[38;5;21;01msktime\u001b[39;00m\u001b[38;5;21;01m.\u001b[39;00m\u001b[38;5;21;01mdatatypes\u001b[39;00m\u001b[38;5;21;01m.\u001b[39;00m\u001b[38;5;21;01m_hierarchical\u001b[39;00m\u001b[38;5;21;01m.\u001b[39;00m\u001b[38;5;21;01m_registry\u001b[39;00m \u001b[38;5;28;01mimport\u001b[39;00m (\n\u001b[1;32m     46\u001b[0m     MTYPE_LIST_HIERARCHICAL,\n\u001b[1;32m     47\u001b[0m     MTYPE_REGISTER_HIERARCHICAL,\n\u001b[1;32m     48\u001b[0m     MTYPE_SOFT_DEPS_HIERARCHICAL,\n\u001b[1;32m     49\u001b[0m )\n\u001b[1;32m     50\u001b[0m \u001b[38;5;28;01mfrom\u001b[39;00m \u001b[38;5;21;01msktime\u001b[39;00m\u001b[38;5;21;01m.\u001b[39;00m\u001b[38;5;21;01mdatatypes\u001b[39;00m\u001b[38;5;21;01m.\u001b[39;00m\u001b[38;5;21;01m_panel\u001b[39;00m\u001b[38;5;21;01m.\u001b[39;00m\u001b[38;5;21;01m_registry\u001b[39;00m \u001b[38;5;28;01mimport\u001b[39;00m (\n\u001b[1;32m     51\u001b[0m     MTYPE_LIST_PANEL,\n\u001b[1;32m     52\u001b[0m     MTYPE_REGISTER_PANEL,\n\u001b[1;32m     53\u001b[0m     MTYPE_SOFT_DEPS_PANEL,\n\u001b[1;32m     54\u001b[0m )\n\u001b[1;32m     55\u001b[0m \u001b[38;5;28;01mfrom\u001b[39;00m \u001b[38;5;21;01msktime\u001b[39;00m\u001b[38;5;21;01m.\u001b[39;00m\u001b[38;5;21;01mdatatypes\u001b[39;00m\u001b[38;5;21;01m.\u001b[39;00m\u001b[38;5;21;01m_proba\u001b[39;00m\u001b[38;5;21;01m.\u001b[39;00m\u001b[38;5;21;01m_registry\u001b[39;00m \u001b[38;5;28;01mimport\u001b[39;00m MTYPE_LIST_PROBA, MTYPE_REGISTER_PROBA\n",
      "File \u001b[0;32m~/anaconda3/envs/opt_env/lib/python3.12/site-packages/sktime/datatypes/_hierarchical/__init__.py:3\u001b[0m\n\u001b[1;32m      1\u001b[0m \u001b[38;5;124;03m\"\"\"Module exports: Hierarchical type checkers, converters and mtype inference.\"\"\"\u001b[39;00m\n\u001b[0;32m----> 3\u001b[0m \u001b[38;5;28;01mfrom\u001b[39;00m \u001b[38;5;21;01msktime\u001b[39;00m\u001b[38;5;21;01m.\u001b[39;00m\u001b[38;5;21;01mdatatypes\u001b[39;00m\u001b[38;5;21;01m.\u001b[39;00m\u001b[38;5;21;01m_hierarchical\u001b[39;00m\u001b[38;5;21;01m.\u001b[39;00m\u001b[38;5;21;01m_convert\u001b[39;00m \u001b[38;5;28;01mimport\u001b[39;00m (\n\u001b[1;32m      4\u001b[0m     convert_dict \u001b[38;5;28;01mas\u001b[39;00m convert_dict_Hierarchical,\n\u001b[1;32m      5\u001b[0m )\n\u001b[1;32m      6\u001b[0m \u001b[38;5;28;01mfrom\u001b[39;00m \u001b[38;5;21;01msktime\u001b[39;00m\u001b[38;5;21;01m.\u001b[39;00m\u001b[38;5;21;01mdatatypes\u001b[39;00m\u001b[38;5;21;01m.\u001b[39;00m\u001b[38;5;21;01m_hierarchical\u001b[39;00m\u001b[38;5;21;01m.\u001b[39;00m\u001b[38;5;21;01m_registry\u001b[39;00m \u001b[38;5;28;01mimport\u001b[39;00m (\n\u001b[1;32m      7\u001b[0m     MTYPE_LIST_HIERARCHICAL,\n\u001b[1;32m      8\u001b[0m     MTYPE_REGISTER_HIERARCHICAL,\n\u001b[1;32m      9\u001b[0m )\n\u001b[1;32m     11\u001b[0m __all__ \u001b[38;5;241m=\u001b[39m [\n\u001b[1;32m     12\u001b[0m     \u001b[38;5;124m\"\u001b[39m\u001b[38;5;124mconvert_dict_Hierarchical\u001b[39m\u001b[38;5;124m\"\u001b[39m,\n\u001b[1;32m     13\u001b[0m     \u001b[38;5;124m\"\u001b[39m\u001b[38;5;124mMTYPE_LIST_HIERARCHICAL\u001b[39m\u001b[38;5;124m\"\u001b[39m,\n\u001b[1;32m     14\u001b[0m     \u001b[38;5;124m\"\u001b[39m\u001b[38;5;124mMTYPE_REGISTER_HIERARCHICAL\u001b[39m\u001b[38;5;124m\"\u001b[39m,\n\u001b[1;32m     15\u001b[0m ]\n",
      "File \u001b[0;32m~/anaconda3/envs/opt_env/lib/python3.12/site-packages/sktime/datatypes/_hierarchical/_convert.py:30\u001b[0m\n\u001b[1;32m     26\u001b[0m \u001b[38;5;28;01mfor\u001b[39;00m tp \u001b[38;5;129;01min\u001b[39;00m MTYPE_LIST_HIERARCHICAL:\n\u001b[1;32m     27\u001b[0m     convert_dict[(tp, tp, \u001b[38;5;124m\"\u001b[39m\u001b[38;5;124mHierarchical\u001b[39m\u001b[38;5;124m\"\u001b[39m)] \u001b[38;5;241m=\u001b[39m convert_identity\n\u001b[0;32m---> 30\u001b[0m \u001b[38;5;28;01mif\u001b[39;00m _check_soft_dependencies(\u001b[38;5;124m\"\u001b[39m\u001b[38;5;124mdask\u001b[39m\u001b[38;5;124m\"\u001b[39m, severity\u001b[38;5;241m=\u001b[39m\u001b[38;5;124m\"\u001b[39m\u001b[38;5;124mnone\u001b[39m\u001b[38;5;124m\"\u001b[39m):\n\u001b[1;32m     31\u001b[0m     \u001b[38;5;28;01mfrom\u001b[39;00m \u001b[38;5;21;01msktime\u001b[39;00m\u001b[38;5;21;01m.\u001b[39;00m\u001b[38;5;21;01mdatatypes\u001b[39;00m\u001b[38;5;21;01m.\u001b[39;00m\u001b[38;5;21;01m_adapter\u001b[39;00m\u001b[38;5;21;01m.\u001b[39;00m\u001b[38;5;21;01mdask_to_pd\u001b[39;00m \u001b[38;5;28;01mimport\u001b[39;00m (\n\u001b[1;32m     32\u001b[0m         convert_dask_to_pandas,\n\u001b[1;32m     33\u001b[0m         convert_pandas_to_dask,\n\u001b[1;32m     34\u001b[0m     )\n\u001b[1;32m     36\u001b[0m     \u001b[38;5;28;01mdef\u001b[39;00m \u001b[38;5;21mconvert_dask_to_pd_as_hierarchical\u001b[39m(obj, store\u001b[38;5;241m=\u001b[39m\u001b[38;5;28;01mNone\u001b[39;00m):\n",
      "File \u001b[0;32m~/anaconda3/envs/opt_env/lib/python3.12/site-packages/sktime/utils/dependencies/_dependencies.py:124\u001b[0m, in \u001b[0;36m_check_soft_dependencies\u001b[0;34m(severity, obj, msg, normalize_reqs, *packages)\u001b[0m\n\u001b[1;32m    121\u001b[0m package_name \u001b[38;5;241m=\u001b[39m req\u001b[38;5;241m.\u001b[39mname\n\u001b[1;32m    122\u001b[0m package_version_req \u001b[38;5;241m=\u001b[39m req\u001b[38;5;241m.\u001b[39mspecifier\n\u001b[0;32m--> 124\u001b[0m pkg_env_version \u001b[38;5;241m=\u001b[39m _get_pkg_version(package_name)\n\u001b[1;32m    125\u001b[0m \u001b[38;5;28;01mif\u001b[39;00m normalize_reqs:\n\u001b[1;32m    126\u001b[0m     pkg_env_version \u001b[38;5;241m=\u001b[39m _normalize_version(pkg_env_version)\n",
      "File \u001b[0;32m~/anaconda3/envs/opt_env/lib/python3.12/site-packages/sktime/utils/dependencies/_dependencies.py:301\u001b[0m, in \u001b[0;36m_get_pkg_version\u001b[0;34m(package_name)\u001b[0m\n\u001b[1;32m    283\u001b[0m \u001b[38;5;28;01mdef\u001b[39;00m \u001b[38;5;21m_get_pkg_version\u001b[39m(package_name):\n\u001b[1;32m    284\u001b[0m \u001b[38;5;250m    \u001b[39m\u001b[38;5;124;03m\"\"\"Check whether package is available in environment, and return its version if yes.\u001b[39;00m\n\u001b[1;32m    285\u001b[0m \n\u001b[1;32m    286\u001b[0m \u001b[38;5;124;03m    Returns ``Version`` object from ``lru_cache``, this should not be mutated.\u001b[39;00m\n\u001b[0;32m   (...)\u001b[0m\n\u001b[1;32m    299\u001b[0m \u001b[38;5;124;03m    ``importlib`` ``Version`` of package, if present in environment.\u001b[39;00m\n\u001b[1;32m    300\u001b[0m \u001b[38;5;124;03m    \"\"\"\u001b[39;00m\n\u001b[0;32m--> 301\u001b[0m     pkgs \u001b[38;5;241m=\u001b[39m _get_installed_packages()\n\u001b[1;32m    302\u001b[0m     pkg_vers_str \u001b[38;5;241m=\u001b[39m pkgs\u001b[38;5;241m.\u001b[39mget(package_name, \u001b[38;5;28;01mNone\u001b[39;00m)\n\u001b[1;32m    303\u001b[0m     \u001b[38;5;28;01mif\u001b[39;00m pkg_vers_str \u001b[38;5;129;01mis\u001b[39;00m \u001b[38;5;28;01mNone\u001b[39;00m:\n",
      "File \u001b[0;32m~/anaconda3/envs/opt_env/lib/python3.12/site-packages/sktime/utils/dependencies/_dependencies.py:280\u001b[0m, in \u001b[0;36m_get_installed_packages\u001b[0;34m()\u001b[0m\n\u001b[1;32m    271\u001b[0m \u001b[38;5;28;01mdef\u001b[39;00m \u001b[38;5;21m_get_installed_packages\u001b[39m():\n\u001b[1;32m    272\u001b[0m \u001b[38;5;250m    \u001b[39m\u001b[38;5;124;03m\"\"\"Get a dictionary of installed packages and their versions.\u001b[39;00m\n\u001b[1;32m    273\u001b[0m \n\u001b[1;32m    274\u001b[0m \u001b[38;5;124;03m    Returns\u001b[39;00m\n\u001b[0;32m   (...)\u001b[0m\n\u001b[1;32m    278\u001b[0m \u001b[38;5;124;03m        MAJOR.MINOR.PATCH version format is used for versions, e.g., \"1.2.3\"\u001b[39;00m\n\u001b[1;32m    279\u001b[0m \u001b[38;5;124;03m    \"\"\"\u001b[39;00m\n\u001b[0;32m--> 280\u001b[0m     \u001b[38;5;28;01mreturn\u001b[39;00m _get_installed_packages_private()\u001b[38;5;241m.\u001b[39mcopy()\n",
      "File \u001b[0;32m~/anaconda3/envs/opt_env/lib/python3.12/site-packages/sktime/utils/dependencies/_dependencies.py:260\u001b[0m, in \u001b[0;36m_get_installed_packages_private\u001b[0;34m()\u001b[0m\n\u001b[1;32m    258\u001b[0m dists \u001b[38;5;241m=\u001b[39m distributions()\n\u001b[1;32m    259\u001b[0m package_names \u001b[38;5;241m=\u001b[39m {dist\u001b[38;5;241m.\u001b[39mmetadata[\u001b[38;5;124m\"\u001b[39m\u001b[38;5;124mName\u001b[39m\u001b[38;5;124m\"\u001b[39m] \u001b[38;5;28;01mfor\u001b[39;00m dist \u001b[38;5;129;01min\u001b[39;00m dists}\n\u001b[0;32m--> 260\u001b[0m package_versions \u001b[38;5;241m=\u001b[39m {pkg_name: version(pkg_name) \u001b[38;5;28;01mfor\u001b[39;00m pkg_name \u001b[38;5;129;01min\u001b[39;00m package_names}\n\u001b[1;32m    261\u001b[0m \u001b[38;5;66;03m# developer note:\u001b[39;00m\n\u001b[1;32m    262\u001b[0m \u001b[38;5;66;03m# we cannot just use distributions naively,\u001b[39;00m\n\u001b[1;32m    263\u001b[0m \u001b[38;5;66;03m# because the same top level package name may appear *twice*,\u001b[39;00m\n\u001b[0;32m   (...)\u001b[0m\n\u001b[1;32m    266\u001b[0m \u001b[38;5;66;03m# the \"version\" contract ensures we always get the version that corresponds\u001b[39;00m\n\u001b[1;32m    267\u001b[0m \u001b[38;5;66;03m# to the importable distribution, i.e., the top one in the sys.path.\u001b[39;00m\n\u001b[1;32m    268\u001b[0m \u001b[38;5;28;01mreturn\u001b[39;00m package_versions\n",
      "File \u001b[0;32m~/anaconda3/envs/opt_env/lib/python3.12/importlib/metadata/__init__.py:889\u001b[0m, in \u001b[0;36mversion\u001b[0;34m(distribution_name)\u001b[0m\n\u001b[1;32m    882\u001b[0m \u001b[38;5;28;01mdef\u001b[39;00m \u001b[38;5;21mversion\u001b[39m(distribution_name):\n\u001b[1;32m    883\u001b[0m \u001b[38;5;250m    \u001b[39m\u001b[38;5;124;03m\"\"\"Get the version string for the named package.\u001b[39;00m\n\u001b[1;32m    884\u001b[0m \n\u001b[1;32m    885\u001b[0m \u001b[38;5;124;03m    :param distribution_name: The name of the distribution package to query.\u001b[39;00m\n\u001b[1;32m    886\u001b[0m \u001b[38;5;124;03m    :return: The version string for the package as defined in the package's\u001b[39;00m\n\u001b[1;32m    887\u001b[0m \u001b[38;5;124;03m        \"Version\" metadata key.\u001b[39;00m\n\u001b[1;32m    888\u001b[0m \u001b[38;5;124;03m    \"\"\"\u001b[39;00m\n\u001b[0;32m--> 889\u001b[0m     \u001b[38;5;28;01mreturn\u001b[39;00m distribution(distribution_name)\u001b[38;5;241m.\u001b[39mversion\n",
      "File \u001b[0;32m~/anaconda3/envs/opt_env/lib/python3.12/importlib/metadata/__init__.py:862\u001b[0m, in \u001b[0;36mdistribution\u001b[0;34m(distribution_name)\u001b[0m\n\u001b[1;32m    856\u001b[0m \u001b[38;5;28;01mdef\u001b[39;00m \u001b[38;5;21mdistribution\u001b[39m(distribution_name):\n\u001b[1;32m    857\u001b[0m \u001b[38;5;250m    \u001b[39m\u001b[38;5;124;03m\"\"\"Get the ``Distribution`` instance for the named package.\u001b[39;00m\n\u001b[1;32m    858\u001b[0m \n\u001b[1;32m    859\u001b[0m \u001b[38;5;124;03m    :param distribution_name: The name of the distribution package as a string.\u001b[39;00m\n\u001b[1;32m    860\u001b[0m \u001b[38;5;124;03m    :return: A ``Distribution`` instance (or subclass thereof).\u001b[39;00m\n\u001b[1;32m    861\u001b[0m \u001b[38;5;124;03m    \"\"\"\u001b[39;00m\n\u001b[0;32m--> 862\u001b[0m     \u001b[38;5;28;01mreturn\u001b[39;00m Distribution\u001b[38;5;241m.\u001b[39mfrom_name(distribution_name)\n",
      "File \u001b[0;32m~/anaconda3/envs/opt_env/lib/python3.12/importlib/metadata/__init__.py:395\u001b[0m, in \u001b[0;36mDistribution.from_name\u001b[0;34m(cls, name)\u001b[0m\n\u001b[1;32m    385\u001b[0m \u001b[38;5;250m\u001b[39m\u001b[38;5;124;03m\"\"\"Return the Distribution for the given package name.\u001b[39;00m\n\u001b[1;32m    386\u001b[0m \n\u001b[1;32m    387\u001b[0m \u001b[38;5;124;03m:param name: The name of the distribution package to search for.\u001b[39;00m\n\u001b[0;32m   (...)\u001b[0m\n\u001b[1;32m    392\u001b[0m \u001b[38;5;124;03m:raises ValueError: When an invalid value is supplied for name.\u001b[39;00m\n\u001b[1;32m    393\u001b[0m \u001b[38;5;124;03m\"\"\"\u001b[39;00m\n\u001b[1;32m    394\u001b[0m \u001b[38;5;28;01mif\u001b[39;00m \u001b[38;5;129;01mnot\u001b[39;00m name:\n\u001b[0;32m--> 395\u001b[0m     \u001b[38;5;28;01mraise\u001b[39;00m \u001b[38;5;167;01mValueError\u001b[39;00m(\u001b[38;5;124m\"\u001b[39m\u001b[38;5;124mA distribution name is required.\u001b[39m\u001b[38;5;124m\"\u001b[39m)\n\u001b[1;32m    396\u001b[0m \u001b[38;5;28;01mtry\u001b[39;00m:\n\u001b[1;32m    397\u001b[0m     \u001b[38;5;28;01mreturn\u001b[39;00m \u001b[38;5;28mnext\u001b[39m(\u001b[38;5;28mcls\u001b[39m\u001b[38;5;241m.\u001b[39mdiscover(name\u001b[38;5;241m=\u001b[39mname))\n",
      "\u001b[0;31mValueError\u001b[0m: A distribution name is required."
     ]
    }
   ],
   "source": [
    "from sktime.transformations.series.lag import LagTransformer\n",
    "\n",
    "# Create lag features\n",
    "lag_transformer = LagTransformer(lags=list(range(1, input_chunk_length+1)))\n",
    "lagged_features = lag_transformer.fit_transform(data[\"wind_offshore_dayahead\"])"
   ]
  },
  {
   "cell_type": "code",
   "execution_count": null,
   "metadata": {},
   "outputs": [
    {
     "data": {
      "text/plain": [
       "time_utc\n",
       "2024-10-01 22:00:00+00:00     926.166687\n",
       "2024-10-01 23:00:00+00:00     914.333313\n",
       "2024-10-02 00:00:00+00:00     900.666687\n",
       "2024-10-02 01:00:00+00:00     888.500000\n",
       "2024-10-02 02:00:00+00:00     882.458313\n",
       "                                ...     \n",
       "2025-02-20 18:00:00+00:00     996.708313\n",
       "2025-02-20 19:00:00+00:00    1000.375000\n",
       "2025-02-20 20:00:00+00:00    1000.291687\n",
       "2025-02-20 21:00:00+00:00    1002.041687\n",
       "2025-02-20 22:00:00+00:00    1000.958313\n",
       "Name: wind_offshore_dayahead, Length: 3384, dtype: float64"
      ]
     },
     "execution_count": 164,
     "metadata": {},
     "output_type": "execute_result"
    }
   ],
   "source": []
  },
  {
   "cell_type": "code",
   "execution_count": null,
   "metadata": {},
   "outputs": [],
   "source": []
  }
 ],
 "metadata": {
  "kernelspec": {
   "display_name": "opt_env",
   "language": "python",
   "name": "python3"
  },
  "language_info": {
   "codemirror_mode": {
    "name": "ipython",
    "version": 3
   },
   "file_extension": ".py",
   "mimetype": "text/x-python",
   "name": "python",
   "nbconvert_exporter": "python",
   "pygments_lexer": "ipython3",
   "version": "3.12.8"
  }
 },
 "nbformat": 4,
 "nbformat_minor": 2
}
