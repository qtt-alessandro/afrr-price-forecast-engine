{
 "cells": [
  {
   "cell_type": "code",
   "execution_count": 29,
   "metadata": {},
   "outputs": [
    {
     "name": "stdout",
     "output_type": "stream",
     "text": [
      "The autoreload extension is already loaded. To reload it, use:\n",
      "  %reload_ext autoreload\n"
     ]
    }
   ],
   "source": [
    "import warnings\n",
    "warnings.filterwarnings(\"ignore\")\n",
    "import logging\n",
    "logging.disable(logging.CRITICAL)\n",
    "import os \n",
    "from pathlib import Path\n",
    "\n",
    "import pandas as pd\n",
    "import matplotlib.pyplot as plt\n",
    "import plotly.graph_objects as go\n",
    "from plotly_resampler import FigureResampler, FigureWidgetResampler\n",
    "\n",
    "from utils.afrr_preprocessing import preprocess_afrr_data\n",
    "from afrr_price_ts_forecast.ensamble_forecast.lr_forecaster import run_lr_pipeline\n",
    "from utils.forecast_utils import get_forecast_params\n",
    "\n",
    "\n",
    "%load_ext autoreload\n",
    "%autoreload 2\n",
    "%matplotlib inline"
   ]
  },
  {
   "cell_type": "code",
   "execution_count": null,
   "metadata": {},
   "outputs": [
    {
     "name": "stdout",
     "output_type": "stream",
     "text": [
      "----------------------------------------\n",
      "EMBEDDING SUMMARY:\n",
      "Embedding dimension\t:  120\n",
      "Trajectory dimensions\t: (120, 3672)\n",
      "Complete dimension\t: (120, 3672)\n",
      "Missing dimension     \t: (120, 0)\n",
      "----------------------------------------\n",
      "DECOMPOSITION SUMMARY:\n",
      "Rank of trajectory\t\t: 120\n",
      "Dimension of projection space\t: 114\n",
      "Characteristic of projection\t: 0.9997\n"
     ]
    }
   ],
   "source": [
    "data_path = \"/home/alqua/git/boiler_OptiBid/data/afrr_price.parquet\"\n",
    "hyper_params_path = \"/home/alqua/git/boiler_OptiBid/data/results/lr_hp_results.json\"\n",
    "train_start = \"2024-10-01 22:00:00\"\n",
    "test_start = \"2025-01-09 22:00:00\"\n",
    "test_end = \"2025-03-20 22:00:00\"\n",
    "\n",
    "# Get forecast parameters\n",
    "forecast_params = get_forecast_params()\n",
    "output_chunk_length = forecast_params['output_chunk_length']\n",
    "forecast_horizon = forecast_params['forecast_horizon']\n",
    "stride = forecast_params['stride']\n",
    "quantiles = forecast_params['quantiles']\n",
    "\n",
    "# Run the pipeline with all parameters defined at the end\n",
    "lr_models, lr_results = run_lr_pipeline(\n",
    "    data_path=data_path,\n",
    "    hyper_params_path=hyper_params_path,\n",
    "    train_start=train_start,\n",
    "    test_start=test_start,\n",
    "    test_end=test_end,\n",
    "    output_chunk_length=output_chunk_length,\n",
    "    forecast_horizon=forecast_horizon,\n",
    "    stride=stride,\n",
    "    quantiles=quantiles\n",
    ")"
   ]
  },
  {
   "cell_type": "code",
   "execution_count": null,
   "metadata": {},
   "outputs": [],
   "source": []
  }
 ],
 "metadata": {
  "kernelspec": {
   "display_name": "opt_env",
   "language": "python",
   "name": "python3"
  },
  "language_info": {
   "codemirror_mode": {
    "name": "ipython",
    "version": 3
   },
   "file_extension": ".py",
   "mimetype": "text/x-python",
   "name": "python",
   "nbconvert_exporter": "python",
   "pygments_lexer": "ipython3",
   "version": "3.12.8"
  }
 },
 "nbformat": 4,
 "nbformat_minor": 2
}
