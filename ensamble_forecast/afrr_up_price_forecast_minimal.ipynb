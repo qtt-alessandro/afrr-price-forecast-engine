{
 "cells": [
  {
   "cell_type": "code",
   "execution_count": 1,
   "metadata": {},
   "outputs": [],
   "source": [
    "import warnings\n",
    "warnings.filterwarnings(\"ignore\")\n",
    "import logging\n",
    "logging.disable(logging.CRITICAL)\n",
    "import os \n",
    "from pathlib import Path\n",
    "\n",
    "import pandas as pd\n",
    "import matplotlib.pyplot as plt\n",
    "import plotly.graph_objects as go\n",
    "from plotly_resampler import FigureResampler, FigureWidgetResampler\n",
    "\n",
    "from utils.afrr_preprocessing import preprocess_afrr_data\n",
    "from lr_forecaster import run_lr_pipeline\n",
    "#from gp_forecaster import run_gp_pipeline\n",
    "from xgb_forecaster import run_xgb_pipeline\n",
    "\n",
    "from utils.forecast_utils import get_forecast_params\n",
    "from darts.timeseries import concatenate\n",
    "\n",
    "%load_ext autoreload\n",
    "%autoreload 2\n",
    "%matplotlib inline"
   ]
  },
  {
   "cell_type": "code",
   "execution_count": 2,
   "metadata": {},
   "outputs": [],
   "source": [
    "data_path = \"../data/afrr_price.parquet\"\n",
    "train_start = \"2024-10-01 22:00:00\"\n",
    "test_start = \"2025-01-09 22:00:00\"\n",
    "test_end = \"2025-03-20 22:00:00\""
   ]
  },
  {
   "cell_type": "code",
   "execution_count": null,
   "metadata": {},
   "outputs": [],
   "source": [
    "forecast_params = get_forecast_params()\n",
    "output_chunk_length = forecast_params['output_chunk_length']\n",
    "forecast_horizon = forecast_params['forecast_horizon']\n",
    "stride = forecast_params['stride']\n",
    "quantiles = forecast_params['quantiles']\n",
    "\n",
    "# Run the pipeline with all parameters defined at the end\n",
    "lr_models, lr_results = run_lr_pipeline(\n",
    "    data_path=data_path,\n",
    "    hyper_params_path= \"../data/results/lr_hp_results.json\",\n",
    "    train_start=train_start,\n",
    "    test_start=test_start,\n",
    "    test_end=test_end,\n",
    "    output_chunk_length=output_chunk_length,\n",
    "    forecast_horizon=forecast_horizon,\n",
    "    stride=stride,\n",
    "    quantiles=quantiles\n",
    ")\n",
    "lr_results.to_parquet(\"lr_model_forecast.par\")\n"
   ]
  },
  {
   "cell_type": "markdown",
   "metadata": {},
   "source": [
    "### Gaussian process Models "
   ]
  },
  {
   "cell_type": "code",
   "execution_count": null,
   "metadata": {},
   "outputs": [],
   "source": [
    "forecast_params = get_forecast_params()\n",
    "output_chunk_length = forecast_params['output_chunk_length']\n",
    "forecast_horizon = forecast_params['forecast_horizon']\n",
    "stride = forecast_params['stride']\n",
    "quantiles = forecast_params['quantiles']\n",
    "\n",
    "# Run the pipeline with all parameters defined at the end\n",
    "gp_model, gp_results = run_gp_pipeline(\n",
    "    data_path=data_path,\n",
    "    hyper_params_path=\"../data/results/gp_hp_results.json\",\n",
    "    train_start=train_start,\n",
    "    test_start=test_start,\n",
    "    test_end=test_end,\n",
    "    output_chunk_length=output_chunk_length,\n",
    "    forecast_horizon=forecast_horizon,\n",
    "    stride=stride,\n",
    "    quantiles=quantiles\n",
    ")\n",
    "\n",
    "gp_results.to_parquet(\"gp_model_forecast.par\")"
   ]
  },
  {
   "cell_type": "markdown",
   "metadata": {},
   "source": [
    "### XgBoost Model"
   ]
  },
  {
   "cell_type": "code",
   "execution_count": 3,
   "metadata": {},
   "outputs": [
    {
     "name": "stdout",
     "output_type": "stream",
     "text": [
      "----------------------------------------\n",
      "EMBEDDING SUMMARY:\n",
      "Embedding dimension\t:  120\n",
      "Trajectory dimensions\t: (120, 3672)\n",
      "Complete dimension\t: (120, 3672)\n",
      "Missing dimension     \t: (120, 0)\n",
      "----------------------------------------\n",
      "DECOMPOSITION SUMMARY:\n",
      "Rank of trajectory\t\t: 120\n",
      "Dimension of projection space\t: 114\n",
      "Characteristic of projection\t: 0.9997\n"
     ]
    },
    {
     "data": {
      "application/vnd.jupyter.widget-view+json": {
       "model_id": "07a869064a084e76aca2eeca275386d1",
       "version_major": 2,
       "version_minor": 0
      },
      "text/plain": [
       "historical forecasts:   0%|          | 0/1 [00:00<?, ?it/s]"
      ]
     },
     "metadata": {},
     "output_type": "display_data"
    },
    {
     "ename": "AttributeError",
     "evalue": "'list' object has no attribute 'pd_dataframe'",
     "output_type": "error",
     "traceback": [
      "\u001b[0;31m---------------------------------------------------------------------------\u001b[0m",
      "\u001b[0;31mAttributeError\u001b[0m                            Traceback (most recent call last)",
      "Cell \u001b[0;32mIn[3], line 8\u001b[0m\n\u001b[1;32m      5\u001b[0m stride \u001b[38;5;241m=\u001b[39m forecast_params[\u001b[38;5;124m'\u001b[39m\u001b[38;5;124mstride\u001b[39m\u001b[38;5;124m'\u001b[39m]\n\u001b[1;32m      7\u001b[0m \u001b[38;5;66;03m# Run the pipeline with all parameters defined at the end\u001b[39;00m\n\u001b[0;32m----> 8\u001b[0m xgb_model, xgb_results \u001b[38;5;241m=\u001b[39m run_xgb_pipeline(\n\u001b[1;32m      9\u001b[0m     data_path\u001b[38;5;241m=\u001b[39mdata_path,\n\u001b[1;32m     10\u001b[0m     hyper_params_path\u001b[38;5;241m=\u001b[39m\u001b[38;5;124m\"\u001b[39m\u001b[38;5;124m../data/results/xgb_hp_results.json\u001b[39m\u001b[38;5;124m\"\u001b[39m,\n\u001b[1;32m     11\u001b[0m     train_start\u001b[38;5;241m=\u001b[39mtrain_start,\n\u001b[1;32m     12\u001b[0m     test_start\u001b[38;5;241m=\u001b[39mtest_start,\n\u001b[1;32m     13\u001b[0m     test_end\u001b[38;5;241m=\u001b[39mtest_end,\n\u001b[1;32m     14\u001b[0m     output_chunk_length\u001b[38;5;241m=\u001b[39moutput_chunk_length,\n\u001b[1;32m     15\u001b[0m     forecast_horizon\u001b[38;5;241m=\u001b[39mforecast_horizon,\n\u001b[1;32m     16\u001b[0m     stride\u001b[38;5;241m=\u001b[39mstride)\n",
      "File \u001b[0;32m~/git/afrr-price-forecast-engine/ensamble_forecast/xgb_forecaster.py:125\u001b[0m, in \u001b[0;36mrun_xgb_pipeline\u001b[0;34m(data_path, hyper_params_path, train_start, test_start, test_end, output_chunk_length, forecast_horizon, stride)\u001b[0m\n\u001b[1;32m    117\u001b[0m xgb_model \u001b[38;5;241m=\u001b[39m train_xgb_model(\n\u001b[1;32m    118\u001b[0m     afrr_pr_ts_scl_train, \n\u001b[1;32m    119\u001b[0m     exog_ts_scl_train, \n\u001b[1;32m    120\u001b[0m     xgb_opt_params, \n\u001b[1;32m    121\u001b[0m     output_chunk_length\n\u001b[1;32m    122\u001b[0m )\n\u001b[1;32m    124\u001b[0m \u001b[38;5;66;03m# Generate and unscale forecasts\u001b[39;00m\n\u001b[0;32m--> 125\u001b[0m xgb_results \u001b[38;5;241m=\u001b[39m generate_xgb_forecasts(\n\u001b[1;32m    126\u001b[0m     xgb_model,\n\u001b[1;32m    127\u001b[0m     afrr_pr_ts_scl_train,\n\u001b[1;32m    128\u001b[0m     afrr_pr_ts_scl_test,\n\u001b[1;32m    129\u001b[0m     exog_ts_scl_train,\n\u001b[1;32m    130\u001b[0m     exog_ts_scl_test,\n\u001b[1;32m    131\u001b[0m     forecast_horizon,\n\u001b[1;32m    132\u001b[0m     stride,\n\u001b[1;32m    133\u001b[0m     afrr_pr_scaler\n\u001b[1;32m    134\u001b[0m )\n\u001b[1;32m    136\u001b[0m \u001b[38;5;28;01mreturn\u001b[39;00m xgb_model, xgb_results\n",
      "File \u001b[0;32m~/git/afrr-price-forecast-engine/ensamble_forecast/xgb_forecaster.py:85\u001b[0m, in \u001b[0;36mgenerate_xgb_forecasts\u001b[0;34m(xgb_model, afrr_pr_ts_scl_train, afrr_pr_ts_scl_test, exog_ts_scl_train, exog_ts_scl_test, forecast_horizon, stride, afrr_pr_scaler)\u001b[0m\n\u001b[1;32m     73\u001b[0m xgb_backtest_forecasts \u001b[38;5;241m=\u001b[39m xgb_model\u001b[38;5;241m.\u001b[39mhistorical_forecasts(\n\u001b[1;32m     74\u001b[0m     series\u001b[38;5;241m=\u001b[39mconcatenate([afrr_pr_ts_scl_train, afrr_pr_ts_scl_test], axis\u001b[38;5;241m=\u001b[39m\u001b[38;5;241m0\u001b[39m),\n\u001b[1;32m     75\u001b[0m     past_covariates\u001b[38;5;241m=\u001b[39mconcatenate([exog_ts_scl_train, exog_ts_scl_test], axis\u001b[38;5;241m=\u001b[39m\u001b[38;5;241m0\u001b[39m),\n\u001b[0;32m   (...)\u001b[0m\n\u001b[1;32m     81\u001b[0m     verbose\u001b[38;5;241m=\u001b[39m\u001b[38;5;28;01mTrue\u001b[39;00m\n\u001b[1;32m     82\u001b[0m )\n\u001b[1;32m     84\u001b[0m \u001b[38;5;66;03m# Convert forecasts to DataFrame\u001b[39;00m\n\u001b[0;32m---> 85\u001b[0m forecast_df \u001b[38;5;241m=\u001b[39m xgb_backtest_forecasts\u001b[38;5;241m.\u001b[39mpd_dataframe()\n\u001b[1;32m     87\u001b[0m \u001b[38;5;66;03m# Unscale the quantile forecasts\u001b[39;00m\n\u001b[1;32m     88\u001b[0m unscaled_dfs \u001b[38;5;241m=\u001b[39m []\n",
      "\u001b[0;31mAttributeError\u001b[0m: 'list' object has no attribute 'pd_dataframe'"
     ]
    }
   ],
   "source": [
    "# Get forecast parameters\n",
    "forecast_params = get_forecast_params()\n",
    "output_chunk_length = forecast_params['output_chunk_length']\n",
    "forecast_horizon = forecast_params['forecast_horizon']\n",
    "stride = forecast_params['stride']\n",
    "\n",
    "# Run the pipeline with all parameters defined at the end\n",
    "xgb_model, xgb_results = run_xgb_pipeline(\n",
    "    data_path=data_path,\n",
    "    hyper_params_path=\"../data/results/xgb_hp_results.json\",\n",
    "    train_start=train_start,\n",
    "    test_start=test_start,\n",
    "    test_end=test_end,\n",
    "    output_chunk_length=output_chunk_length,\n",
    "    forecast_horizon=forecast_horizon,\n",
    "    stride=stride)\n",
    "\n",
    "#xgb_results.to_parquet(\"xgboost_model_forecast.par\")"
   ]
  },
  {
   "cell_type": "code",
   "execution_count": null,
   "metadata": {},
   "outputs": [],
   "source": []
  },
  {
   "cell_type": "code",
   "execution_count": null,
   "metadata": {},
   "outputs": [],
   "source": []
  },
  {
   "cell_type": "code",
   "execution_count": null,
   "metadata": {},
   "outputs": [],
   "source": []
  },
  {
   "cell_type": "code",
   "execution_count": null,
   "metadata": {},
   "outputs": [],
   "source": []
  },
  {
   "cell_type": "code",
   "execution_count": null,
   "metadata": {},
   "outputs": [],
   "source": []
  },
  {
   "cell_type": "code",
   "execution_count": null,
   "metadata": {},
   "outputs": [],
   "source": []
  },
  {
   "cell_type": "markdown",
   "metadata": {},
   "source": [
    "### Original Model"
   ]
  },
  {
   "cell_type": "code",
   "execution_count": null,
   "metadata": {},
   "outputs": [],
   "source": [
    "(afrr_pr_ts_scl_train, \n",
    "afrr_pr_ts_scl_test, \n",
    "afrr_pr_ts_orig_train, \n",
    "afrr_pr_ts_orig_test, \n",
    "exog_ts_scl_train, \n",
    "exog_ts_scl_test,\n",
    "afrr_pr_scaler\n",
    ") = preprocess_afrr_data(data_path, train_start, test_start, test_end)"
   ]
  },
  {
   "cell_type": "code",
   "execution_count": null,
   "metadata": {},
   "outputs": [],
   "source": [
    "afrr_pr_ts_orig = concatenate([afrr_pr_ts_orig_train, afrr_pr_ts_orig_test], axis=0)\n",
    "afrr_pr_ts_orig = afrr_pr_ts_orig.with_columns_renamed(['aFRR_UpCapPriceEUR'], col_names_new=[\"afrr_up_cap_price\"])\n",
    "result_df = lr_results.join([gp_results, xgb_results, afrr_pr_ts_orig.pd_dataframe()])"
   ]
  },
  {
   "cell_type": "code",
   "execution_count": null,
   "metadata": {},
   "outputs": [],
   "source": [
    "import plotly.graph_objects as go\n",
    "from plotly_resampler import FigureResampler, FigureWidgetResampler\n",
    " \n",
    " \n",
    "fig = FigureWidgetResampler(go.Figure())\n",
    "fig.update_layout(margin=dict(l=10, r=10, t=10, b=10))\n",
    "fig.add_trace(go.Scattergl(name=r'AFRR Up Cap Price', showlegend=True), hf_x=result_df.index, hf_y=result_df['afrr_up_cap_price'])\n",
    "fig.add_trace(go.Scattergl(name=r'AFRR Up Cap Price Linear Model q = 0.5', showlegend=True), hf_x=result_df.index, hf_y=result_df['gp_afrr_up_cap_price_0.5'])\n",
    "fig.add_trace(go.Scattergl(name=r'AFRR Up Cap Price Gaussian Process Mean', showlegend=True), hf_x=result_df.index, hf_y=result_df['lr_afrr_up_cap_price_0.5'])\n",
    "fig.add_trace(go.Scattergl(name=r'AFRR Up Cap Price XGB Mean', showlegend=True), hf_x=result_df.index, hf_y=result_df['xgb_afrr_up_cap_price_0.5'])\n",
    "fig.update_layout(height=400, template=\"plotly_dark\")\n",
    "display(fig)"
   ]
  },
  {
   "cell_type": "code",
   "execution_count": null,
   "metadata": {},
   "outputs": [],
   "source": [
    "result_df"
   ]
  },
  {
   "cell_type": "code",
   "execution_count": null,
   "metadata": {},
   "outputs": [],
   "source": []
  }
 ],
 "metadata": {
  "kernelspec": {
   "display_name": "opt_env",
   "language": "python",
   "name": "python3"
  },
  "language_info": {
   "codemirror_mode": {
    "name": "ipython",
    "version": 3
   },
   "file_extension": ".py",
   "mimetype": "text/x-python",
   "name": "python",
   "nbconvert_exporter": "python",
   "pygments_lexer": "ipython3",
   "version": "3.12.9"
  }
 },
 "nbformat": 4,
 "nbformat_minor": 2
}
